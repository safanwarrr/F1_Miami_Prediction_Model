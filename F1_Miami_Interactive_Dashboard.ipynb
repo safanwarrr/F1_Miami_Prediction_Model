{
 "cells": [
  {
   "cell_type": "markdown",
   "metadata": {},
   "source": [
    "# 🏎️ F1 Miami GP Prediction Interactive Dashboard\n",
    "\n",
    "This interactive dashboard provides comprehensive analysis of the F1 Miami Grand Prix prediction models and results.\n",
    "\n",
    "## 📊 Features:\n",
    "- Interactive visualizations\n",
    "- Model performance comparisons\n",
    "- Driver-specific analysis\n",
    "- Prediction accuracy metrics\n",
    "- Error analysis and insights"
   ]
  },
  {
   "cell_type": "markdown",
   "metadata": {},
   "source": [
    "## 🔧 Setup and Data Loading"
   ]
  },
  {
   "cell_type": "code",
   "execution_count": 1,
   "metadata": {},
   "outputs": [
    {
     "name": "stdout",
     "output_type": "stream",
     "text": [
      "✅ Libraries imported successfully!\n"
     ]
    }
   ],
   "source": [
    "# Import necessary libraries\n",
    "import pandas as pd\n",
    "import numpy as np\n",
    "import matplotlib.pyplot as plt\n",
    "import seaborn as sns\n",
    "import plotly.express as px\n",
    "import plotly.graph_objects as go\n",
    "from plotly.subplots import make_subplots\n",
    "import warnings\n",
    "warnings.filterwarnings('ignore')\n",
    "\n",
    "# Import utility functions\n",
    "from prediction_utils import create_display_friendly_dataframe\n",
    "\n",
    "# Define formatting functions here\n",
    "def format_position(position):\n",
    "    return f'{int(position)}'\n",
    "\n",
    "def format_grid_change(actual, grid):\n",
    "    if pd.isna(grid):\n",
    "        return 'N/A'\n",
    "    change = actual - grid\n",
    "    if change > 0:\n",
    "        return f'▲{int(change)}'\n",
    "    elif change < 0:\n",
    "        return f'▼{int(abs(change))}'\n",
    "    else:\n",
    "        return '—'\n",
    "\n",
    "def format_error(value):\n",
    "    return f'{value:.2f}'\n",
    "# Configure plotting\n",
    "%matplotlib inline\n",
    "plt.style.use('seaborn-v0_8')\n",
    "sns.set_palette(\"husl\")\n",
    "\n",
    "print(\"✅ Libraries imported successfully!\")"
   ]
  },
  {
   "cell_type": "code",
   "execution_count": 2,
   "metadata": {},
   "outputs": [
    {
     "name": "stdout",
     "output_type": "stream",
     "text": [
      "✅ Data loaded successfully!\n",
      "📊 Loaded 20 driver predictions\n",
      "📊 Loaded 3 model evaluations\n"
     ]
    }
   ],
   "source": [
    "# Load datasets\n",
    "try:\n",
    "    predictions = pd.read_csv('miami_gp_predictions_comparison.csv')\n",
    "    eval_metrics = pd.read_csv('model_evaluation_summary.csv')\n",
    "    print(\"✅ Data loaded successfully!\")\n",
    "    print(f\"📊 Loaded {len(predictions)} driver predictions\")\n",
    "    print(f\"📊 Loaded {len(eval_metrics)} model evaluations\")\n",
    "except FileNotFoundError as e:\n",
    "    print(f\"❌ Error loading data: {e}\")\n",
    "    print(\"Please ensure the CSV files are in the current directory\")"
   ]
  },
  {
   "cell_type": "code",
   "execution_count": 3,
   "metadata": {},
   "outputs": [
    {
     "name": "stdout",
     "output_type": "stream",
     "text": [
      "📋 Dataset Overview:\n",
      "============================================================\n",
      "\n",
      "✨ Predictions Dataset:\n",
      "       driver_name      team  grid_position  actual_position  pred_linear_reg  \\\n",
      "0     Lando Norris   McLaren              5                1               17   \n",
      "1   Max Verstappen  Red Bull              1                2                1   \n",
      "2  Charles Leclerc   Ferrari              2                3                4   \n",
      "3     Sergio Perez  Red Bull              4                4                3   \n",
      "4     Carlos Sainz   Ferrari              3                5                4   \n",
      "\n",
      "   pred_weighted_avg  pred_random_forest  \n",
      "0                 13                  17  \n",
      "1                  2                   1  \n",
      "2                  4                   3  \n",
      "3                  4                   4  \n",
      "4                  4                   4  \n",
      "\n",
      "📊 Model Evaluation Metrics:\n",
      "               model       mae      rmse        r2  exact_accuracy  \\\n",
      "0  Linear Regression  3.488359  4.974030  0.255911            10.0   \n",
      "1   Weighted Average  2.610000  3.929122  0.535699            25.0   \n",
      "2      Random Forest  3.362000  4.910285  0.274860            10.0   \n",
      "\n",
      "   within_1_accuracy  within_2_accuracy  within_3_accuracy  \n",
      "0               10.0               50.0               50.0  \n",
      "1               35.0               60.0               65.0  \n",
      "2               40.0               45.0               50.0  \n",
      "\n",
      "🔍 Data Type Verification:\n",
      "Grid Position: int64\n",
      "Actual Position: int64\n"
     ]
    }
   ],
   "source": [
    "# Data overview\n",
    "print(\"📋 Dataset Overview:\")\n",
    "print(\"=\" * 60)\n",
    "\n",
    "# Create display-friendly version with integer positions (no more .0 decimals)\n",
    "predictions_display = predictions.copy()\n",
    "predictions_display['grid_position'] = predictions_display['grid_position'].fillna(0).astype(int)\n",
    "predictions_display['actual_position'] = predictions_display['actual_position'].astype(int)\n",
    "\n",
    "print(\"\\n✨ Predictions Dataset:\")\n",
    "print(predictions_display.head())\n",
    "\n",
    "print(\"\\n📊 Model Evaluation Metrics:\")\n",
    "print(eval_metrics)\n",
    "\n",
    "# Show data type confirmation\n",
    "print(\"\\n🔍 Data Type Verification:\")\n",
    "print(f\"Grid Position: {predictions_display['grid_position'].dtype}\")\n",
    "print(f\"Actual Position: {predictions_display['actual_position'].dtype}\")"
   ]
  },
  {
   "cell_type": "markdown",
   "metadata": {},
   "source": [
    "## 🎯 Interactive Model Performance Comparison"
   ]
  },
  {
   "cell_type": "code",
   "execution_count": 4,
   "metadata": {},
   "outputs": [
    {
     "data": {
      "application/vnd.plotly.v1+json": {
       "config": {
        "plotlyServerURL": "https://plot.ly"
       },
       "data": [
        {
         "marker": {
          "color": [
           "#FF6B6B",
           "#4ECDC4",
           "#45B7D1"
          ]
         },
         "name": "RMSE",
         "text": {
          "bdata": "4XoUrkfhE0BxPQrXo3APQKRwPQrXoxNA",
          "dtype": "f8"
         },
         "textposition": "outside",
         "type": "bar",
         "x": [
          "Linear Regression",
          "Weighted Average",
          "Random Forest"
         ],
         "xaxis": "x",
         "y": {
          "bdata": "m9pmI2jlE0CpiyeJ124PQMxAmMghpBNA",
          "dtype": "f8"
         },
         "yaxis": "y"
        },
        {
         "marker": {
          "color": [
           "#FF6B6B",
           "#4ECDC4",
           "#45B7D1"
          ]
         },
         "name": "MAE",
         "text": {
          "bdata": "7FG4HoXrC0DhehSuR+EEQOF6FK5H4QpA",
          "dtype": "f8"
         },
         "textposition": "outside",
         "type": "bar",
         "x": [
          "Linear Regression",
          "Weighted Average",
          "Random Forest"
         ],
         "xaxis": "x2",
         "y": {
          "bdata": "E1gquCjoC0DhehSuR+EEQE03iUFg5QpA",
          "dtype": "f8"
         },
         "yaxis": "y2"
        },
        {
         "marker": {
          "color": [
           "#FF6B6B",
           "#4ECDC4",
           "#45B7D1"
          ]
         },
         "name": "R²",
         "text": {
          "bdata": "/Knx0k1i0D/0/dR46SbhP5qZmZmZmdE/",
          "dtype": "f8"
         },
         "textposition": "outside",
         "type": "bar",
         "x": [
          "Linear Regression",
          "Weighted Average",
          "Random Forest"
         ],
         "xaxis": "x3",
         "y": {
          "bdata": "fqtXh9Zg0D8zZOW/ciThP8SmNQdPl9E/",
          "dtype": "f8"
         },
         "yaxis": "y3"
        },
        {
         "marker": {
          "color": [
           "#FF6B6B",
           "#4ECDC4",
           "#45B7D1"
          ]
         },
         "name": "±2 Accuracy",
         "text": [
          "50.0%",
          "60.0%",
          "45.0%"
         ],
         "textposition": "outside",
         "type": "bar",
         "x": [
          "Linear Regression",
          "Weighted Average",
          "Random Forest"
         ],
         "xaxis": "x4",
         "y": {
          "bdata": "AAAAAAAASUAAAAAAAABOQAAAAAAAgEZA",
          "dtype": "f8"
         },
         "yaxis": "y4"
        }
       ],
       "layout": {
        "annotations": [
         {
          "font": {
           "size": 16
          },
          "showarrow": false,
          "text": "RMSE by Model",
          "x": 0.225,
          "xanchor": "center",
          "xref": "paper",
          "y": 1,
          "yanchor": "bottom",
          "yref": "paper"
         },
         {
          "font": {
           "size": 16
          },
          "showarrow": false,
          "text": "MAE by Model",
          "x": 0.775,
          "xanchor": "center",
          "xref": "paper",
          "y": 1,
          "yanchor": "bottom",
          "yref": "paper"
         },
         {
          "font": {
           "size": 16
          },
          "showarrow": false,
          "text": "R² Score by Model",
          "x": 0.225,
          "xanchor": "center",
          "xref": "paper",
          "y": 0.45,
          "yanchor": "bottom",
          "yref": "paper"
         },
         {
          "font": {
           "size": 16
          },
          "showarrow": false,
          "text": "Accuracy Within ±2 Positions",
          "x": 0.775,
          "xanchor": "center",
          "xref": "paper",
          "y": 0.45,
          "yanchor": "bottom",
          "yref": "paper"
         }
        ],
        "height": 600,
        "showlegend": false,
        "template": {
         "data": {
          "bar": [
           {
            "error_x": {
             "color": "#2a3f5f"
            },
            "error_y": {
             "color": "#2a3f5f"
            },
            "marker": {
             "line": {
              "color": "#E5ECF6",
              "width": 0.5
             },
             "pattern": {
              "fillmode": "overlay",
              "size": 10,
              "solidity": 0.2
             }
            },
            "type": "bar"
           }
          ],
          "barpolar": [
           {
            "marker": {
             "line": {
              "color": "#E5ECF6",
              "width": 0.5
             },
             "pattern": {
              "fillmode": "overlay",
              "size": 10,
              "solidity": 0.2
             }
            },
            "type": "barpolar"
           }
          ],
          "carpet": [
           {
            "aaxis": {
             "endlinecolor": "#2a3f5f",
             "gridcolor": "white",
             "linecolor": "white",
             "minorgridcolor": "white",
             "startlinecolor": "#2a3f5f"
            },
            "baxis": {
             "endlinecolor": "#2a3f5f",
             "gridcolor": "white",
             "linecolor": "white",
             "minorgridcolor": "white",
             "startlinecolor": "#2a3f5f"
            },
            "type": "carpet"
           }
          ],
          "choropleth": [
           {
            "colorbar": {
             "outlinewidth": 0,
             "ticks": ""
            },
            "type": "choropleth"
           }
          ],
          "contour": [
           {
            "colorbar": {
             "outlinewidth": 0,
             "ticks": ""
            },
            "colorscale": [
             [
              0,
              "#0d0887"
             ],
             [
              0.1111111111111111,
              "#46039f"
             ],
             [
              0.2222222222222222,
              "#7201a8"
             ],
             [
              0.3333333333333333,
              "#9c179e"
             ],
             [
              0.4444444444444444,
              "#bd3786"
             ],
             [
              0.5555555555555556,
              "#d8576b"
             ],
             [
              0.6666666666666666,
              "#ed7953"
             ],
             [
              0.7777777777777778,
              "#fb9f3a"
             ],
             [
              0.8888888888888888,
              "#fdca26"
             ],
             [
              1,
              "#f0f921"
             ]
            ],
            "type": "contour"
           }
          ],
          "contourcarpet": [
           {
            "colorbar": {
             "outlinewidth": 0,
             "ticks": ""
            },
            "type": "contourcarpet"
           }
          ],
          "heatmap": [
           {
            "colorbar": {
             "outlinewidth": 0,
             "ticks": ""
            },
            "colorscale": [
             [
              0,
              "#0d0887"
             ],
             [
              0.1111111111111111,
              "#46039f"
             ],
             [
              0.2222222222222222,
              "#7201a8"
             ],
             [
              0.3333333333333333,
              "#9c179e"
             ],
             [
              0.4444444444444444,
              "#bd3786"
             ],
             [
              0.5555555555555556,
              "#d8576b"
             ],
             [
              0.6666666666666666,
              "#ed7953"
             ],
             [
              0.7777777777777778,
              "#fb9f3a"
             ],
             [
              0.8888888888888888,
              "#fdca26"
             ],
             [
              1,
              "#f0f921"
             ]
            ],
            "type": "heatmap"
           }
          ],
          "histogram": [
           {
            "marker": {
             "pattern": {
              "fillmode": "overlay",
              "size": 10,
              "solidity": 0.2
             }
            },
            "type": "histogram"
           }
          ],
          "histogram2d": [
           {
            "colorbar": {
             "outlinewidth": 0,
             "ticks": ""
            },
            "colorscale": [
             [
              0,
              "#0d0887"
             ],
             [
              0.1111111111111111,
              "#46039f"
             ],
             [
              0.2222222222222222,
              "#7201a8"
             ],
             [
              0.3333333333333333,
              "#9c179e"
             ],
             [
              0.4444444444444444,
              "#bd3786"
             ],
             [
              0.5555555555555556,
              "#d8576b"
             ],
             [
              0.6666666666666666,
              "#ed7953"
             ],
             [
              0.7777777777777778,
              "#fb9f3a"
             ],
             [
              0.8888888888888888,
              "#fdca26"
             ],
             [
              1,
              "#f0f921"
             ]
            ],
            "type": "histogram2d"
           }
          ],
          "histogram2dcontour": [
           {
            "colorbar": {
             "outlinewidth": 0,
             "ticks": ""
            },
            "colorscale": [
             [
              0,
              "#0d0887"
             ],
             [
              0.1111111111111111,
              "#46039f"
             ],
             [
              0.2222222222222222,
              "#7201a8"
             ],
             [
              0.3333333333333333,
              "#9c179e"
             ],
             [
              0.4444444444444444,
              "#bd3786"
             ],
             [
              0.5555555555555556,
              "#d8576b"
             ],
             [
              0.6666666666666666,
              "#ed7953"
             ],
             [
              0.7777777777777778,
              "#fb9f3a"
             ],
             [
              0.8888888888888888,
              "#fdca26"
             ],
             [
              1,
              "#f0f921"
             ]
            ],
            "type": "histogram2dcontour"
           }
          ],
          "mesh3d": [
           {
            "colorbar": {
             "outlinewidth": 0,
             "ticks": ""
            },
            "type": "mesh3d"
           }
          ],
          "parcoords": [
           {
            "line": {
             "colorbar": {
              "outlinewidth": 0,
              "ticks": ""
             }
            },
            "type": "parcoords"
           }
          ],
          "pie": [
           {
            "automargin": true,
            "type": "pie"
           }
          ],
          "scatter": [
           {
            "fillpattern": {
             "fillmode": "overlay",
             "size": 10,
             "solidity": 0.2
            },
            "type": "scatter"
           }
          ],
          "scatter3d": [
           {
            "line": {
             "colorbar": {
              "outlinewidth": 0,
              "ticks": ""
             }
            },
            "marker": {
             "colorbar": {
              "outlinewidth": 0,
              "ticks": ""
             }
            },
            "type": "scatter3d"
           }
          ],
          "scattercarpet": [
           {
            "marker": {
             "colorbar": {
              "outlinewidth": 0,
              "ticks": ""
             }
            },
            "type": "scattercarpet"
           }
          ],
          "scattergeo": [
           {
            "marker": {
             "colorbar": {
              "outlinewidth": 0,
              "ticks": ""
             }
            },
            "type": "scattergeo"
           }
          ],
          "scattergl": [
           {
            "marker": {
             "colorbar": {
              "outlinewidth": 0,
              "ticks": ""
             }
            },
            "type": "scattergl"
           }
          ],
          "scattermap": [
           {
            "marker": {
             "colorbar": {
              "outlinewidth": 0,
              "ticks": ""
             }
            },
            "type": "scattermap"
           }
          ],
          "scattermapbox": [
           {
            "marker": {
             "colorbar": {
              "outlinewidth": 0,
              "ticks": ""
             }
            },
            "type": "scattermapbox"
           }
          ],
          "scatterpolar": [
           {
            "marker": {
             "colorbar": {
              "outlinewidth": 0,
              "ticks": ""
             }
            },
            "type": "scatterpolar"
           }
          ],
          "scatterpolargl": [
           {
            "marker": {
             "colorbar": {
              "outlinewidth": 0,
              "ticks": ""
             }
            },
            "type": "scatterpolargl"
           }
          ],
          "scatterternary": [
           {
            "marker": {
             "colorbar": {
              "outlinewidth": 0,
              "ticks": ""
             }
            },
            "type": "scatterternary"
           }
          ],
          "surface": [
           {
            "colorbar": {
             "outlinewidth": 0,
             "ticks": ""
            },
            "colorscale": [
             [
              0,
              "#0d0887"
             ],
             [
              0.1111111111111111,
              "#46039f"
             ],
             [
              0.2222222222222222,
              "#7201a8"
             ],
             [
              0.3333333333333333,
              "#9c179e"
             ],
             [
              0.4444444444444444,
              "#bd3786"
             ],
             [
              0.5555555555555556,
              "#d8576b"
             ],
             [
              0.6666666666666666,
              "#ed7953"
             ],
             [
              0.7777777777777778,
              "#fb9f3a"
             ],
             [
              0.8888888888888888,
              "#fdca26"
             ],
             [
              1,
              "#f0f921"
             ]
            ],
            "type": "surface"
           }
          ],
          "table": [
           {
            "cells": {
             "fill": {
              "color": "#EBF0F8"
             },
             "line": {
              "color": "white"
             }
            },
            "header": {
             "fill": {
              "color": "#C8D4E3"
             },
             "line": {
              "color": "white"
             }
            },
            "type": "table"
           }
          ]
         },
         "layout": {
          "annotationdefaults": {
           "arrowcolor": "#2a3f5f",
           "arrowhead": 0,
           "arrowwidth": 1
          },
          "autotypenumbers": "strict",
          "coloraxis": {
           "colorbar": {
            "outlinewidth": 0,
            "ticks": ""
           }
          },
          "colorscale": {
           "diverging": [
            [
             0,
             "#8e0152"
            ],
            [
             0.1,
             "#c51b7d"
            ],
            [
             0.2,
             "#de77ae"
            ],
            [
             0.3,
             "#f1b6da"
            ],
            [
             0.4,
             "#fde0ef"
            ],
            [
             0.5,
             "#f7f7f7"
            ],
            [
             0.6,
             "#e6f5d0"
            ],
            [
             0.7,
             "#b8e186"
            ],
            [
             0.8,
             "#7fbc41"
            ],
            [
             0.9,
             "#4d9221"
            ],
            [
             1,
             "#276419"
            ]
           ],
           "sequential": [
            [
             0,
             "#0d0887"
            ],
            [
             0.1111111111111111,
             "#46039f"
            ],
            [
             0.2222222222222222,
             "#7201a8"
            ],
            [
             0.3333333333333333,
             "#9c179e"
            ],
            [
             0.4444444444444444,
             "#bd3786"
            ],
            [
             0.5555555555555556,
             "#d8576b"
            ],
            [
             0.6666666666666666,
             "#ed7953"
            ],
            [
             0.7777777777777778,
             "#fb9f3a"
            ],
            [
             0.8888888888888888,
             "#fdca26"
            ],
            [
             1,
             "#f0f921"
            ]
           ],
           "sequentialminus": [
            [
             0,
             "#0d0887"
            ],
            [
             0.1111111111111111,
             "#46039f"
            ],
            [
             0.2222222222222222,
             "#7201a8"
            ],
            [
             0.3333333333333333,
             "#9c179e"
            ],
            [
             0.4444444444444444,
             "#bd3786"
            ],
            [
             0.5555555555555556,
             "#d8576b"
            ],
            [
             0.6666666666666666,
             "#ed7953"
            ],
            [
             0.7777777777777778,
             "#fb9f3a"
            ],
            [
             0.8888888888888888,
             "#fdca26"
            ],
            [
             1,
             "#f0f921"
            ]
           ]
          },
          "colorway": [
           "#636efa",
           "#EF553B",
           "#00cc96",
           "#ab63fa",
           "#FFA15A",
           "#19d3f3",
           "#FF6692",
           "#B6E880",
           "#FF97FF",
           "#FECB52"
          ],
          "font": {
           "color": "#2a3f5f"
          },
          "geo": {
           "bgcolor": "white",
           "lakecolor": "white",
           "landcolor": "#E5ECF6",
           "showlakes": true,
           "showland": true,
           "subunitcolor": "white"
          },
          "hoverlabel": {
           "align": "left"
          },
          "hovermode": "closest",
          "mapbox": {
           "style": "light"
          },
          "paper_bgcolor": "white",
          "plot_bgcolor": "#E5ECF6",
          "polar": {
           "angularaxis": {
            "gridcolor": "white",
            "linecolor": "white",
            "ticks": ""
           },
           "bgcolor": "#E5ECF6",
           "radialaxis": {
            "gridcolor": "white",
            "linecolor": "white",
            "ticks": ""
           }
          },
          "scene": {
           "xaxis": {
            "backgroundcolor": "#E5ECF6",
            "gridcolor": "white",
            "gridwidth": 2,
            "linecolor": "white",
            "showbackground": true,
            "ticks": "",
            "zerolinecolor": "white"
           },
           "yaxis": {
            "backgroundcolor": "#E5ECF6",
            "gridcolor": "white",
            "gridwidth": 2,
            "linecolor": "white",
            "showbackground": true,
            "ticks": "",
            "zerolinecolor": "white"
           },
           "zaxis": {
            "backgroundcolor": "#E5ECF6",
            "gridcolor": "white",
            "gridwidth": 2,
            "linecolor": "white",
            "showbackground": true,
            "ticks": "",
            "zerolinecolor": "white"
           }
          },
          "shapedefaults": {
           "line": {
            "color": "#2a3f5f"
           }
          },
          "ternary": {
           "aaxis": {
            "gridcolor": "white",
            "linecolor": "white",
            "ticks": ""
           },
           "baxis": {
            "gridcolor": "white",
            "linecolor": "white",
            "ticks": ""
           },
           "bgcolor": "#E5ECF6",
           "caxis": {
            "gridcolor": "white",
            "linecolor": "white",
            "ticks": ""
           }
          },
          "title": {
           "x": 0.05
          },
          "xaxis": {
           "automargin": true,
           "gridcolor": "white",
           "linecolor": "white",
           "ticks": "",
           "title": {
            "standoff": 15
           },
           "zerolinecolor": "white",
           "zerolinewidth": 2
          },
          "yaxis": {
           "automargin": true,
           "gridcolor": "white",
           "linecolor": "white",
           "ticks": "",
           "title": {
            "standoff": 15
           },
           "zerolinecolor": "white",
           "zerolinewidth": 2
          }
         }
        },
        "title": {
         "text": "🏆 Model Performance Comparison Dashboard",
         "x": 0.5
        },
        "xaxis": {
         "anchor": "y",
         "domain": [
          0,
          0.45
         ]
        },
        "xaxis2": {
         "anchor": "y2",
         "domain": [
          0.55,
          1
         ]
        },
        "xaxis3": {
         "anchor": "y3",
         "domain": [
          0,
          0.45
         ]
        },
        "xaxis4": {
         "anchor": "y4",
         "domain": [
          0.55,
          1
         ]
        },
        "yaxis": {
         "anchor": "x",
         "domain": [
          0.55,
          1
         ]
        },
        "yaxis2": {
         "anchor": "x2",
         "domain": [
          0.55,
          1
         ]
        },
        "yaxis3": {
         "anchor": "x3",
         "domain": [
          0,
          0.45
         ]
        },
        "yaxis4": {
         "anchor": "x4",
         "domain": [
          0,
          0.45
         ]
        }
       }
      },
      "image/png": "[encoded data removed]"
     },
     "metadata": {},
     "output_type": "display_data"
    }
   ],
   "source": [
    "# Interactive model performance comparison\n",
    "def create_performance_dashboard():\n",
    "    fig = make_subplots(\n",
    "        rows=2, cols=2,\n",
    "        subplot_titles=('RMSE by Model', 'MAE by Model', 'R² Score by Model', 'Accuracy Within ±2 Positions'),\n",
    "        vertical_spacing=0.1\n",
    "    )\n",
    "    \n",
    "    models = eval_metrics['model']\n",
    "    colors = ['#FF6B6B', '#4ECDC4', '#45B7D1']\n",
    "    \n",
    "    # RMSE\n",
    "    fig.add_trace(\n",
    "        go.Bar(x=models, y=eval_metrics['rmse'], name='RMSE', \n",
    "               marker_color=colors, text=eval_metrics['rmse'].round(2),\n",
    "               textposition='outside'),\n",
    "        row=1, col=1\n",
    "    )\n",
    "    \n",
    "    # MAE\n",
    "    fig.add_trace(\n",
    "        go.Bar(x=models, y=eval_metrics['mae'], name='MAE',\n",
    "               marker_color=colors, text=eval_metrics['mae'].round(2),\n",
    "               textposition='outside'),\n",
    "        row=1, col=2\n",
    "    )\n",
    "    \n",
    "    # R²\n",
    "    fig.add_trace(\n",
    "        go.Bar(x=models, y=eval_metrics['r2'], name='R²',\n",
    "               marker_color=colors, text=eval_metrics['r2'].round(3),\n",
    "               textposition='outside'),\n",
    "        row=2, col=1\n",
    "    )\n",
    "    \n",
    "    # Accuracy within ±2\n",
    "    fig.add_trace(\n",
    "        go.Bar(x=models, y=eval_metrics['within_2_accuracy'], name='±2 Accuracy',\n",
    "               marker_color=colors, text=[f\"{x:.1f}%\" for x in eval_metrics['within_2_accuracy']],\n",
    "               textposition='outside'),\n",
    "        row=2, col=2\n",
    "    )\n",
    "    \n",
    "    fig.update_layout(\n",
    "        height=600,\n",
    "        title_text=\"🏆 Model Performance Comparison Dashboard\",\n",
    "        title_x=0.5,\n",
    "        showlegend=False\n",
    "    )\n",
    "    \n",
    "    fig.show()\n",
    "\n",
    "create_performance_dashboard()"
   ]
  },
  {
   "cell_type": "markdown",
   "metadata": {},
   "source": [
    "## 🎯 Predicted vs Actual Positions Analysis"
   ]
  },
  {
   "cell_type": "code",
   "execution_count": 5,
   "metadata": {},
   "outputs": [
    {
     "data": {
      "application/vnd.plotly.v1+json": {
       "config": {
        "plotlyServerURL": "https://plot.ly"
       },
       "data": [
        {
         "customdata": {
          "bdata": "AAAAAAAAKEAAAAAAAAAAAAAAAAAAAPA/AAAAAAAAAAAAAAAAAADwPwAAAAAAAPA/AAAAAAAAEEAAAAAAAAAAQAAAAAAAAPA/AAAAAAAAAAAAAAAAAAAAQAAAAAAAAAAAAAAAAAAA8D8AAAAAAAAQQAAAAAAAAAAAAAAAAAAAEEAAAAAAAAAYQAAAAAAAABhAAAAAAAAAFEAAAAAAAAAAQA==",
          "dtype": "f8"
         },
         "hovertemplate": "<b>%{text}</b><br>Actual Position: %{x}<br>Predicted Position: %{y:.1f}<br>Error: %{customdata:.1f}<extra></extra>",
         "marker": {
          "opacity": 0.8,
          "size": 12
         },
         "mode": "markers",
         "name": "Predictions",
         "text": [
          "Lando Norris",
          "Max Verstappen",
          "Charles Leclerc",
          "Sergio Perez",
          "Carlos Sainz",
          "Lewis Hamilton",
          "Yuki Tsunoda",
          "George Russell",
          "Fernando Alonso",
          "Esteban Ocon",
          "Nico Hulkenberg",
          "Pierre Gasly",
          "Oscar Piastri",
          "Guanyu Zhou",
          "Daniel Ricciardo",
          "Valtteri Bottas",
          "Lance Stroll",
          "Alexander Albon",
          "Kevin Magnussen",
          "Logan Sargeant"
         ],
         "type": "scatter",
         "x": {
          "bdata": "AAAAAAAA8D8AAAAAAAAAQAAAAAAAAAhAAAAAAAAAEEAAAAAAAAAUQAAAAAAAABhAAAAAAAAAHEAAAAAAAAAgQAAAAAAAACJAAAAAAAAAJEAAAAAAAAAmQAAAAAAAAChAAAAAAAAAKkAAAAAAAAAsQAAAAAAAAC5AAAAAAAAAMEAAAAAAAAAxQAAAAAAAADJAAAAAAAAAM0AAAAAAAAA0QA==",
          "dtype": "f8"
         },
         "y": {
          "bdata": "DQIEBAQHCwYKCg0MDhIPDAsMDhI=",
          "dtype": "i1"
         }
        },
        {
         "line": {
          "color": "black",
          "dash": "dash"
         },
         "mode": "lines",
         "name": "Perfect Prediction",
         "type": "scatter",
         "x": [
          1,
          20
         ],
         "y": [
          1,
          20
         ]
        },
        {
         "fill": "toself",
         "fillcolor": "rgba(128,128,128,0.2)",
         "line": {
          "color": "rgba(255,255,255,0)"
         },
         "name": "±2 Position Band",
         "type": "scatter",
         "x": {
          "bdata": "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",
          "dtype": "f8"
         },
         "y": {
          "bdata": "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",
          "dtype": "f8"
         }
        }
       ],
       "layout": {
        "height": 500,
        "hovermode": "closest",
        "template": {
         "data": {
          "bar": [
           {
            "error_x": {
             "color": "#2a3f5f"
            },
            "error_y": {
             "color": "#2a3f5f"
            },
            "marker": {
             "line": {
              "color": "#E5ECF6",
              "width": 0.5
             },
             "pattern": {
              "fillmode": "overlay",
              "size": 10,
              "solidity": 0.2
             }
            },
            "type": "bar"
           }
          ],
          "barpolar": [
           {
            "marker": {
             "line": {
              "color": "#E5ECF6",
              "width": 0.5
             },
             "pattern": {
              "fillmode": "overlay",
              "size": 10,
              "solidity": 0.2
             }
            },
            "type": "barpolar"
           }
          ],
          "carpet": [
           {
            "aaxis": {
             "endlinecolor": "#2a3f5f",
             "gridcolor": "white",
             "linecolor": "white",
             "minorgridcolor": "white",
             "startlinecolor": "#2a3f5f"
            },
            "baxis": {
             "endlinecolor": "#2a3f5f",
             "gridcolor": "white",
             "linecolor": "white",
             "minorgridcolor": "white",
             "startlinecolor": "#2a3f5f"
            },
            "type": "carpet"
           }
          ],
          "choropleth": [
           {
            "colorbar": {
             "outlinewidth": 0,
             "ticks": ""
            },
            "type": "choropleth"
           }
          ],
          "contour": [
           {
            "colorbar": {
             "outlinewidth": 0,
             "ticks": ""
            },
            "colorscale": [
             [
              0,
              "#0d0887"
             ],
             [
              0.1111111111111111,
              "#46039f"
             ],
             [
              0.2222222222222222,
              "#7201a8"
             ],
             [
              0.3333333333333333,
              "#9c179e"
             ],
             [
              0.4444444444444444,
              "#bd3786"
             ],
             [
              0.5555555555555556,
              "#d8576b"
             ],
             [
              0.6666666666666666,
              "#ed7953"
             ],
             [
              0.7777777777777778,
              "#fb9f3a"
             ],
             [
              0.8888888888888888,
              "#fdca26"
             ],
             [
              1,
              "#f0f921"
             ]
            ],
            "type": "contour"
           }
          ],
          "contourcarpet": [
           {
            "colorbar": {
             "outlinewidth": 0,
             "ticks": ""
            },
            "type": "contourcarpet"
           }
          ],
          "heatmap": [
           {
            "colorbar": {
             "outlinewidth": 0,
             "ticks": ""
            },
            "colorscale": [
             [
              0,
              "#0d0887"
             ],
             [
              0.1111111111111111,
              "#46039f"
             ],
             [
              0.2222222222222222,
              "#7201a8"
             ],
             [
              0.3333333333333333,
              "#9c179e"
             ],
             [
              0.4444444444444444,
              "#bd3786"
             ],
             [
              0.5555555555555556,
              "#d8576b"
             ],
             [
              0.6666666666666666,
              "#ed7953"
             ],
             [
              0.7777777777777778,
              "#fb9f3a"
             ],
             [
              0.8888888888888888,
              "#fdca26"
             ],
             [
              1,
              "#f0f921"
             ]
            ],
            "type": "heatmap"
           }
          ],
          "histogram": [
           {
            "marker": {
             "pattern": {
              "fillmode": "overlay",
              "size": 10,
              "solidity": 0.2
             }
            },
            "type": "histogram"
           }
          ],
          "histogram2d": [
           {
            "colorbar": {
             "outlinewidth": 0,
             "ticks": ""
            },
            "colorscale": [
             [
              0,
              "#0d0887"
             ],
             [
              0.1111111111111111,
              "#46039f"
             ],
             [
              0.2222222222222222,
              "#7201a8"
             ],
             [
              0.3333333333333333,
              "#9c179e"
             ],
             [
              0.4444444444444444,
              "#bd3786"
             ],
             [
              0.5555555555555556,
              "#d8576b"
             ],
             [
              0.6666666666666666,
              "#ed7953"
             ],
             [
              0.7777777777777778,
              "#fb9f3a"
             ],
             [
              0.8888888888888888,
              "#fdca26"
             ],
             [
              1,
              "#f0f921"
             ]
            ],
            "type": "histogram2d"
           }
          ],
          "histogram2dcontour": [
           {
            "colorbar": {
             "outlinewidth": 0,
             "ticks": ""
            },
            "colorscale": [
             [
              0,
              "#0d0887"
             ],
             [
              0.1111111111111111,
              "#46039f"
             ],
             [
              0.2222222222222222,
              "#7201a8"
             ],
             [
              0.3333333333333333,
              "#9c179e"
             ],
             [
              0.4444444444444444,
              "#bd3786"
             ],
             [
              0.5555555555555556,
              "#d8576b"
             ],
             [
              0.6666666666666666,
              "#ed7953"
             ],
             [
              0.7777777777777778,
              "#fb9f3a"
             ],
             [
              0.8888888888888888,
              "#fdca26"
             ],
             [
              1,
              "#f0f921"
             ]
            ],
            "type": "histogram2dcontour"
           }
          ],
          "mesh3d": [
           {
            "colorbar": {
             "outlinewidth": 0,
             "ticks": ""
            },
            "type": "mesh3d"
           }
          ],
          "parcoords": [
           {
            "line": {
             "colorbar": {
              "outlinewidth": 0,
              "ticks": ""
             }
            },
            "type": "parcoords"
           }
          ],
          "pie": [
           {
            "automargin": true,
            "type": "pie"
           }
          ],
          "scatter": [
           {
            "fillpattern": {
             "fillmode": "overlay",
             "size": 10,
             "solidity": 0.2
            },
            "type": "scatter"
           }
          ],
          "scatter3d": [
           {
            "line": {
             "colorbar": {
              "outlinewidth": 0,
              "ticks": ""
             }
            },
            "marker": {
             "colorbar": {
              "outlinewidth": 0,
              "ticks": ""
             }
            },
            "type": "scatter3d"
           }
          ],
          "scattercarpet": [
           {
            "marker": {
             "colorbar": {
              "outlinewidth": 0,
              "ticks": ""
             }
            },
            "type": "scattercarpet"
           }
          ],
          "scattergeo": [
           {
            "marker": {
             "colorbar": {
              "outlinewidth": 0,
              "ticks": ""
             }
            },
            "type": "scattergeo"
           }
          ],
          "scattergl": [
           {
            "marker": {
             "colorbar": {
              "outlinewidth": 0,
              "ticks": ""
             }
            },
            "type": "scattergl"
           }
          ],
          "scattermap": [
           {
            "marker": {
             "colorbar": {
              "outlinewidth": 0,
              "ticks": ""
             }
            },
            "type": "scattermap"
           }
          ],
          "scattermapbox": [
           {
            "marker": {
             "colorbar": {
              "outlinewidth": 0,
              "ticks": ""
             }
            },
            "type": "scattermapbox"
           }
          ],
          "scatterpolar": [
           {
            "marker": {
             "colorbar": {
              "outlinewidth": 0,
              "ticks": ""
             }
            },
            "type": "scatterpolar"
           }
          ],
          "scatterpolargl": [
           {
            "marker": {
             "colorbar": {
              "outlinewidth": 0,
              "ticks": ""
             }
            },
            "type": "scatterpolargl"
           }
          ],
          "scatterternary": [
           {
            "marker": {
             "colorbar": {
              "outlinewidth": 0,
              "ticks": ""
             }
            },
            "type": "scatterternary"
           }
          ],
          "surface": [
           {
            "colorbar": {
             "outlinewidth": 0,
             "ticks": ""
            },
            "colorscale": [
             [
              0,
              "#0d0887"
             ],
             [
              0.1111111111111111,
              "#46039f"
             ],
             [
              0.2222222222222222,
              "#7201a8"
             ],
             [
              0.3333333333333333,
              "#9c179e"
             ],
             [
              0.4444444444444444,
              "#bd3786"
             ],
             [
              0.5555555555555556,
              "#d8576b"
             ],
             [
              0.6666666666666666,
              "#ed7953"
             ],
             [
              0.7777777777777778,
              "#fb9f3a"
             ],
             [
              0.8888888888888888,
              "#fdca26"
             ],
             [
              1,
              "#f0f921"
             ]
            ],
            "type": "surface"
           }
          ],
          "table": [
           {
            "cells": {
             "fill": {
              "color": "#EBF0F8"
             },
             "line": {
              "color": "white"
             }
            },
            "header": {
             "fill": {
              "color": "#C8D4E3"
             },
             "line": {
              "color": "white"
             }
            },
            "type": "table"
           }
          ]
         },
         "layout": {
          "annotationdefaults": {
           "arrowcolor": "#2a3f5f",
           "arrowhead": 0,
           "arrowwidth": 1
          },
          "autotypenumbers": "strict",
          "coloraxis": {
           "colorbar": {
            "outlinewidth": 0,
            "ticks": ""
           }
          },
          "colorscale": {
           "diverging": [
            [
             0,
             "#8e0152"
            ],
            [
             0.1,
             "#c51b7d"
            ],
            [
             0.2,
             "#de77ae"
            ],
            [
             0.3,
             "#f1b6da"
            ],
            [
             0.4,
             "#fde0ef"
            ],
            [
             0.5,
             "#f7f7f7"
            ],
            [
             0.6,
             "#e6f5d0"
            ],
            [
             0.7,
             "#b8e186"
            ],
            [
             0.8,
             "#7fbc41"
            ],
            [
             0.9,
             "#4d9221"
            ],
            [
             1,
             "#276419"
            ]
           ],
           "sequential": [
            [
             0,
             "#0d0887"
            ],
            [
             0.1111111111111111,
             "#46039f"
            ],
            [
             0.2222222222222222,
             "#7201a8"
            ],
            [
             0.3333333333333333,
             "#9c179e"
            ],
            [
             0.4444444444444444,
             "#bd3786"
            ],
            [
             0.5555555555555556,
             "#d8576b"
            ],
            [
             0.6666666666666666,
             "#ed7953"
            ],
            [
             0.7777777777777778,
             "#fb9f3a"
            ],
            [
             0.8888888888888888,
             "#fdca26"
            ],
            [
             1,
             "#f0f921"
            ]
           ],
           "sequentialminus": [
            [
             0,
             "#0d0887"
            ],
            [
             0.1111111111111111,
             "#46039f"
            ],
            [
             0.2222222222222222,
             "#7201a8"
            ],
            [
             0.3333333333333333,
             "#9c179e"
            ],
            [
             0.4444444444444444,
             "#bd3786"
            ],
            [
             0.5555555555555556,
             "#d8576b"
            ],
            [
             0.6666666666666666,
             "#ed7953"
            ],
            [
             0.7777777777777778,
             "#fb9f3a"
            ],
            [
             0.8888888888888888,
             "#fdca26"
            ],
            [
             1,
             "#f0f921"
            ]
           ]
          },
          "colorway": [
           "#636efa",
           "#EF553B",
           "#00cc96",
           "#ab63fa",
           "#FFA15A",
           "#19d3f3",
           "#FF6692",
           "#B6E880",
           "#FF97FF",
           "#FECB52"
          ],
          "font": {
           "color": "#2a3f5f"
          },
          "geo": {
           "bgcolor": "white",
           "lakecolor": "white",
           "landcolor": "#E5ECF6",
           "showlakes": true,
           "showland": true,
           "subunitcolor": "white"
          },
          "hoverlabel": {
           "align": "left"
          },
          "hovermode": "closest",
          "mapbox": {
           "style": "light"
          },
          "paper_bgcolor": "white",
          "plot_bgcolor": "#E5ECF6",
          "polar": {
           "angularaxis": {
            "gridcolor": "white",
            "linecolor": "white",
            "ticks": ""
           },
           "bgcolor": "#E5ECF6",
           "radialaxis": {
            "gridcolor": "white",
            "linecolor": "white",
            "ticks": ""
           }
          },
          "scene": {
           "xaxis": {
            "backgroundcolor": "#E5ECF6",
            "gridcolor": "white",
            "gridwidth": 2,
            "linecolor": "white",
            "showbackground": true,
            "ticks": "",
            "zerolinecolor": "white"
           },
           "yaxis": {
            "backgroundcolor": "#E5ECF6",
            "gridcolor": "white",
            "gridwidth": 2,
            "linecolor": "white",
            "showbackground": true,
            "ticks": "",
            "zerolinecolor": "white"
           },
           "zaxis": {
            "backgroundcolor": "#E5ECF6",
            "gridcolor": "white",
            "gridwidth": 2,
            "linecolor": "white",
            "showbackground": true,
            "ticks": "",
            "zerolinecolor": "white"
           }
          },
          "shapedefaults": {
           "line": {
            "color": "#2a3f5f"
           }
          },
          "ternary": {
           "aaxis": {
            "gridcolor": "white",
            "linecolor": "white",
            "ticks": ""
           },
           "baxis": {
            "gridcolor": "white",
            "linecolor": "white",
            "ticks": ""
           },
           "bgcolor": "#E5ECF6",
           "caxis": {
            "gridcolor": "white",
            "linecolor": "white",
            "ticks": ""
           }
          },
          "title": {
           "x": 0.05
          },
          "xaxis": {
           "automargin": true,
           "gridcolor": "white",
           "linecolor": "white",
           "ticks": "",
           "title": {
            "standoff": 15
           },
           "zerolinecolor": "white",
           "zerolinewidth": 2
          },
          "yaxis": {
           "automargin": true,
           "gridcolor": "white",
           "linecolor": "white",
           "ticks": "",
           "title": {
            "standoff": 15
           },
           "zerolinecolor": "white",
           "zerolinewidth": 2
          }
         }
        },
        "title": {
         "text": "🎯 Weighted Average Model: Predicted vs Actual Positions"
        },
        "xaxis": {
         "title": {
          "text": "Actual Position"
         }
        },
        "yaxis": {
         "title": {
          "text": "Predicted Position"
         }
        }
       }
      }
     },
     "metadata": {},
     "output_type": "display_data"
    }
   ],
   "source": [
    "# Interactive scatter plot for predicted vs actual positions\n",
    "def create_prediction_scatter(model_col, model_name):\n",
    "    fig = go.Figure()\n",
    "    \n",
    "    # Add scatter plot\n",
    "    fig.add_trace(\n",
    "        go.Scatter(\n",
    "            x=predictions['actual_position'],\n",
    "            y=predictions[model_col],\n",
    "            mode='markers',\n",
    "            marker=dict(size=12, opacity=0.8),\n",
    "            text=predictions['driver_name'],\n",
    "            hovertemplate=\n",
    "                '<b>%{text}</b><br>' +\n",
    "                'Actual Position: %{x}<br>' +\n",
    "                'Predicted Position: %{y:.1f}<br>' +\n",
    "                'Error: %{customdata:.1f}' +\n",
    "                '<extra></extra>',\n",
    "            customdata=abs(predictions['actual_position'] - predictions[model_col]),\n",
    "            name='Predictions'\n",
    "        )\n",
    "    )\n",
    "    \n",
    "    # Add perfect prediction line\n",
    "    fig.add_trace(\n",
    "        go.Scatter(\n",
    "            x=[1, 20],\n",
    "            y=[1, 20],\n",
    "            mode='lines',\n",
    "            line=dict(dash='dash', color='black'),\n",
    "            name='Perfect Prediction'\n",
    "        )\n",
    "    )\n",
    "    \n",
    "    # Add error bands\n",
    "    x_range = np.linspace(1, 20, 100)\n",
    "    fig.add_trace(\n",
    "        go.Scatter(\n",
    "            x=np.concatenate([x_range, x_range[::-1]]),\n",
    "            y=np.concatenate([x_range-2, (x_range+2)[::-1]]),\n",
    "            fill='toself',\n",
    "            fillcolor='rgba(128,128,128,0.2)',\n",
    "            line=dict(color='rgba(255,255,255,0)'),\n",
    "            name='±2 Position Band'\n",
    "        )\n",
    "    )\n",
    "    \n",
    "    fig.update_layout(\n",
    "        title=f\"🎯 {model_name}: Predicted vs Actual Positions\",\n",
    "        xaxis_title=\"Actual Position\",\n",
    "        yaxis_title=\"Predicted Position\",\n",
    "        height=500,\n",
    "        hovermode='closest'\n",
    "    )\n",
    "    \n",
    "    return fig\n",
    "\n",
    "# Show for best model (Weighted Average)\n",
    "fig = create_prediction_scatter('pred_weighted_avg', 'Weighted Average Model')\n",
    "fig.show()"
   ]
  },
  {
   "cell_type": "markdown",
   "metadata": {},
   "source": [
    "## 🏁 2024 Miami GP Results Table"
   ]
  },
  {
   "cell_type": "code",
   "execution_count": 6,
   "metadata": {},
   "outputs": [
    {
     "name": "stdout",
     "output_type": "stream",
     "text": [
      "🏁 2024 Miami Grand Prix - Complete Results & Predictions\n",
      "🥇 Gold: Podium (P1-3) | 🔵 Blue: Points (P4-10) | ⚪ White: No Points\n"
     ]
    },
    {
     "data": {
      "text/html": [
       "<style type=\"text/css\">\n",
       "#T_98779_row0_col0, #T_98779_row0_col1, #T_98779_row0_col2, #T_98779_row0_col3, #T_98779_row0_col4, #T_98779_row0_col5, #T_98779_row0_col6, #T_98779_row0_col7, #T_98779_row0_col8, #T_98779_row0_col9, #T_98779_row1_col0, #T_98779_row1_col1, #T_98779_row1_col2, #T_98779_row1_col3, #T_98779_row1_col4, #T_98779_row1_col5, #T_98779_row1_col6, #T_98779_row1_col7, #T_98779_row1_col8, #T_98779_row1_col9, #T_98779_row2_col0, #T_98779_row2_col1, #T_98779_row2_col2, #T_98779_row2_col3, #T_98779_row2_col4, #T_98779_row2_col5, #T_98779_row2_col6, #T_98779_row2_col7, #T_98779_row2_col8, #T_98779_row2_col9 {\n",
       "  background-color: #FFD700;\n",
       "}\n",
       "#T_98779_row3_col0, #T_98779_row3_col1, #T_98779_row3_col2, #T_98779_row3_col3, #T_98779_row3_col4, #T_98779_row3_col5, #T_98779_row3_col6, #T_98779_row3_col7, #T_98779_row3_col8, #T_98779_row3_col9, #T_98779_row4_col0, #T_98779_row4_col1, #T_98779_row4_col2, #T_98779_row4_col3, #T_98779_row4_col4, #T_98779_row4_col5, #T_98779_row4_col6, #T_98779_row4_col7, #T_98779_row4_col8, #T_98779_row4_col9, #T_98779_row5_col0, #T_98779_row5_col1, #T_98779_row5_col2, #T_98779_row5_col3, #T_98779_row5_col4, #T_98779_row5_col5, #T_98779_row5_col6, #T_98779_row5_col7, #T_98779_row5_col8, #T_98779_row5_col9, #T_98779_row6_col0, #T_98779_row6_col1, #T_98779_row6_col2, #T_98779_row6_col3, #T_98779_row6_col4, #T_98779_row6_col5, #T_98779_row6_col6, #T_98779_row6_col7, #T_98779_row6_col8, #T_98779_row6_col9, #T_98779_row7_col0, #T_98779_row7_col1, #T_98779_row7_col2, #T_98779_row7_col3, #T_98779_row7_col4, #T_98779_row7_col5, #T_98779_row7_col6, #T_98779_row7_col7, #T_98779_row7_col8, #T_98779_row7_col9, #T_98779_row8_col0, #T_98779_row8_col1, #T_98779_row8_col2, #T_98779_row8_col3, #T_98779_row8_col4, #T_98779_row8_col5, #T_98779_row8_col6, #T_98779_row8_col7, #T_98779_row8_col8, #T_98779_row8_col9, #T_98779_row9_col0, #T_98779_row9_col1, #T_98779_row9_col2, #T_98779_row9_col3, #T_98779_row9_col4, #T_98779_row9_col5, #T_98779_row9_col6, #T_98779_row9_col7, #T_98779_row9_col8, #T_98779_row9_col9 {\n",
       "  background-color: #E6F3FF;\n",
       "}\n",
       "#T_98779_row10_col0, #T_98779_row10_col1, #T_98779_row10_col2, #T_98779_row10_col3, #T_98779_row10_col4, #T_98779_row10_col5, #T_98779_row10_col6, #T_98779_row10_col7, #T_98779_row10_col8, #T_98779_row10_col9, #T_98779_row11_col0, #T_98779_row11_col1, #T_98779_row11_col2, #T_98779_row11_col3, #T_98779_row11_col4, #T_98779_row11_col5, #T_98779_row11_col6, #T_98779_row11_col7, #T_98779_row11_col8, #T_98779_row11_col9, #T_98779_row12_col0, #T_98779_row12_col1, #T_98779_row12_col2, #T_98779_row12_col3, #T_98779_row12_col4, #T_98779_row12_col5, #T_98779_row12_col6, #T_98779_row12_col7, #T_98779_row12_col8, #T_98779_row12_col9, #T_98779_row13_col0, #T_98779_row13_col1, #T_98779_row13_col2, #T_98779_row13_col3, #T_98779_row13_col4, #T_98779_row13_col5, #T_98779_row13_col6, #T_98779_row13_col7, #T_98779_row13_col8, #T_98779_row13_col9, #T_98779_row14_col0, #T_98779_row14_col1, #T_98779_row14_col2, #T_98779_row14_col3, #T_98779_row14_col4, #T_98779_row14_col5, #T_98779_row14_col6, #T_98779_row14_col7, #T_98779_row14_col8, #T_98779_row14_col9, #T_98779_row15_col0, #T_98779_row15_col1, #T_98779_row15_col2, #T_98779_row15_col3, #T_98779_row15_col4, #T_98779_row15_col5, #T_98779_row15_col6, #T_98779_row15_col7, #T_98779_row15_col8, #T_98779_row15_col9, #T_98779_row16_col0, #T_98779_row16_col1, #T_98779_row16_col2, #T_98779_row16_col3, #T_98779_row16_col4, #T_98779_row16_col5, #T_98779_row16_col6, #T_98779_row16_col7, #T_98779_row16_col8, #T_98779_row16_col9, #T_98779_row17_col0, #T_98779_row17_col1, #T_98779_row17_col2, #T_98779_row17_col3, #T_98779_row17_col4, #T_98779_row17_col5, #T_98779_row17_col6, #T_98779_row17_col7, #T_98779_row17_col8, #T_98779_row17_col9, #T_98779_row18_col0, #T_98779_row18_col1, #T_98779_row18_col2, #T_98779_row18_col3, #T_98779_row18_col4, #T_98779_row18_col5, #T_98779_row18_col6, #T_98779_row18_col7, #T_98779_row18_col8, #T_98779_row18_col9, #T_98779_row19_col0, #T_98779_row19_col1, #T_98779_row19_col2, #T_98779_row19_col3, #T_98779_row19_col4, #T_98779_row19_col5, #T_98779_row19_col6, #T_98779_row19_col7, #T_98779_row19_col8, #T_98779_row19_col9 {\n",
       "  background-color: white;\n",
       "}\n",
       "</style>\n",
       "<table id=\"T_98779\">\n",
       "  <thead>\n",
       "    <tr>\n",
       "      <th class=\"blank level0\" >&nbsp;</th>\n",
       "      <th id=\"T_98779_level0_col0\" class=\"col_heading level0 col0\" >Pos</th>\n",
       "      <th id=\"T_98779_level0_col1\" class=\"col_heading level0 col1\" >Driver</th>\n",
       "      <th id=\"T_98779_level0_col2\" class=\"col_heading level0 col2\" >Team</th>\n",
       "      <th id=\"T_98779_level0_col3\" class=\"col_heading level0 col3\" >Grid</th>\n",
       "      <th id=\"T_98779_level0_col4\" class=\"col_heading level0 col4\" >WA Pred</th>\n",
       "      <th id=\"T_98779_level0_col5\" class=\"col_heading level0 col5\" >LR Pred</th>\n",
       "      <th id=\"T_98779_level0_col6\" class=\"col_heading level0 col6\" >RF Pred</th>\n",
       "      <th id=\"T_98779_level0_col7\" class=\"col_heading level0 col7\" >WA Error</th>\n",
       "      <th id=\"T_98779_level0_col8\" class=\"col_heading level0 col8\" >LR Error</th>\n",
       "      <th id=\"T_98779_level0_col9\" class=\"col_heading level0 col9\" >RF Error</th>\n",
       "    </tr>\n",
       "  </thead>\n",
       "  <tbody>\n",
       "    <tr>\n",
       "      <th id=\"T_98779_level0_row0\" class=\"row_heading level0 row0\" >0</th>\n",
       "      <td id=\"T_98779_row0_col0\" class=\"data row0 col0\" >1</td>\n",
       "      <td id=\"T_98779_row0_col1\" class=\"data row0 col1\" >Lando Norris</td>\n",
       "      <td id=\"T_98779_row0_col2\" class=\"data row0 col2\" >McLaren</td>\n",
       "      <td id=\"T_98779_row0_col3\" class=\"data row0 col3\" >5</td>\n",
       "      <td id=\"T_98779_row0_col4\" class=\"data row0 col4\" >13</td>\n",
       "      <td id=\"T_98779_row0_col5\" class=\"data row0 col5\" >17</td>\n",
       "      <td id=\"T_98779_row0_col6\" class=\"data row0 col6\" >17</td>\n",
       "      <td id=\"T_98779_row0_col7\" class=\"data row0 col7\" >12</td>\n",
       "      <td id=\"T_98779_row0_col8\" class=\"data row0 col8\" >16</td>\n",
       "      <td id=\"T_98779_row0_col9\" class=\"data row0 col9\" >16</td>\n",
       "    </tr>\n",
       "    <tr>\n",
       "      <th id=\"T_98779_level0_row1\" class=\"row_heading level0 row1\" >1</th>\n",
       "      <td id=\"T_98779_row1_col0\" class=\"data row1 col0\" >2</td>\n",
       "      <td id=\"T_98779_row1_col1\" class=\"data row1 col1\" >Max Verstappen</td>\n",
       "      <td id=\"T_98779_row1_col2\" class=\"data row1 col2\" >Red Bull</td>\n",
       "      <td id=\"T_98779_row1_col3\" class=\"data row1 col3\" >1</td>\n",
       "      <td id=\"T_98779_row1_col4\" class=\"data row1 col4\" >2</td>\n",
       "      <td id=\"T_98779_row1_col5\" class=\"data row1 col5\" >1</td>\n",
       "      <td id=\"T_98779_row1_col6\" class=\"data row1 col6\" >1</td>\n",
       "      <td id=\"T_98779_row1_col7\" class=\"data row1 col7\" >0</td>\n",
       "      <td id=\"T_98779_row1_col8\" class=\"data row1 col8\" >1</td>\n",
       "      <td id=\"T_98779_row1_col9\" class=\"data row1 col9\" >1</td>\n",
       "    </tr>\n",
       "    <tr>\n",
       "      <th id=\"T_98779_level0_row2\" class=\"row_heading level0 row2\" >2</th>\n",
       "      <td id=\"T_98779_row2_col0\" class=\"data row2 col0\" >3</td>\n",
       "      <td id=\"T_98779_row2_col1\" class=\"data row2 col1\" >Charles Leclerc</td>\n",
       "      <td id=\"T_98779_row2_col2\" class=\"data row2 col2\" >Ferrari</td>\n",
       "      <td id=\"T_98779_row2_col3\" class=\"data row2 col3\" >2</td>\n",
       "      <td id=\"T_98779_row2_col4\" class=\"data row2 col4\" >4</td>\n",
       "      <td id=\"T_98779_row2_col5\" class=\"data row2 col5\" >4</td>\n",
       "      <td id=\"T_98779_row2_col6\" class=\"data row2 col6\" >3</td>\n",
       "      <td id=\"T_98779_row2_col7\" class=\"data row2 col7\" >1</td>\n",
       "      <td id=\"T_98779_row2_col8\" class=\"data row2 col8\" >1</td>\n",
       "      <td id=\"T_98779_row2_col9\" class=\"data row2 col9\" >0</td>\n",
       "    </tr>\n",
       "    <tr>\n",
       "      <th id=\"T_98779_level0_row3\" class=\"row_heading level0 row3\" >3</th>\n",
       "      <td id=\"T_98779_row3_col0\" class=\"data row3 col0\" >4</td>\n",
       "      <td id=\"T_98779_row3_col1\" class=\"data row3 col1\" >Sergio Perez</td>\n",
       "      <td id=\"T_98779_row3_col2\" class=\"data row3 col2\" >Red Bull</td>\n",
       "      <td id=\"T_98779_row3_col3\" class=\"data row3 col3\" >4</td>\n",
       "      <td id=\"T_98779_row3_col4\" class=\"data row3 col4\" >4</td>\n",
       "      <td id=\"T_98779_row3_col5\" class=\"data row3 col5\" >3</td>\n",
       "      <td id=\"T_98779_row3_col6\" class=\"data row3 col6\" >4</td>\n",
       "      <td id=\"T_98779_row3_col7\" class=\"data row3 col7\" >0</td>\n",
       "      <td id=\"T_98779_row3_col8\" class=\"data row3 col8\" >1</td>\n",
       "      <td id=\"T_98779_row3_col9\" class=\"data row3 col9\" >0</td>\n",
       "    </tr>\n",
       "    <tr>\n",
       "      <th id=\"T_98779_level0_row4\" class=\"row_heading level0 row4\" >4</th>\n",
       "      <td id=\"T_98779_row4_col0\" class=\"data row4 col0\" >5</td>\n",
       "      <td id=\"T_98779_row4_col1\" class=\"data row4 col1\" >Carlos Sainz</td>\n",
       "      <td id=\"T_98779_row4_col2\" class=\"data row4 col2\" >Ferrari</td>\n",
       "      <td id=\"T_98779_row4_col3\" class=\"data row4 col3\" >3</td>\n",
       "      <td id=\"T_98779_row4_col4\" class=\"data row4 col4\" >4</td>\n",
       "      <td id=\"T_98779_row4_col5\" class=\"data row4 col5\" >4</td>\n",
       "      <td id=\"T_98779_row4_col6\" class=\"data row4 col6\" >4</td>\n",
       "      <td id=\"T_98779_row4_col7\" class=\"data row4 col7\" >1</td>\n",
       "      <td id=\"T_98779_row4_col8\" class=\"data row4 col8\" >1</td>\n",
       "      <td id=\"T_98779_row4_col9\" class=\"data row4 col9\" >1</td>\n",
       "    </tr>\n",
       "    <tr>\n",
       "      <th id=\"T_98779_level0_row5\" class=\"row_heading level0 row5\" >5</th>\n",
       "      <td id=\"T_98779_row5_col0\" class=\"data row5 col0\" >6</td>\n",
       "      <td id=\"T_98779_row5_col1\" class=\"data row5 col1\" >Lewis Hamilton</td>\n",
       "      <td id=\"T_98779_row5_col2\" class=\"data row5 col2\" >Mercedes</td>\n",
       "      <td id=\"T_98779_row5_col3\" class=\"data row5 col3\" >8</td>\n",
       "      <td id=\"T_98779_row5_col4\" class=\"data row5 col4\" >7</td>\n",
       "      <td id=\"T_98779_row5_col5\" class=\"data row5 col5\" >6</td>\n",
       "      <td id=\"T_98779_row5_col6\" class=\"data row5 col6\" >7</td>\n",
       "      <td id=\"T_98779_row5_col7\" class=\"data row5 col7\" >1</td>\n",
       "      <td id=\"T_98779_row5_col8\" class=\"data row5 col8\" >0</td>\n",
       "      <td id=\"T_98779_row5_col9\" class=\"data row5 col9\" >1</td>\n",
       "    </tr>\n",
       "    <tr>\n",
       "      <th id=\"T_98779_level0_row6\" class=\"row_heading level0 row6\" >6</th>\n",
       "      <td id=\"T_98779_row6_col0\" class=\"data row6 col0\" >7</td>\n",
       "      <td id=\"T_98779_row6_col1\" class=\"data row6 col1\" >Yuki Tsunoda</td>\n",
       "      <td id=\"T_98779_row6_col2\" class=\"data row6 col2\" >RB</td>\n",
       "      <td id=\"T_98779_row6_col3\" class=\"data row6 col3\" >10</td>\n",
       "      <td id=\"T_98779_row6_col4\" class=\"data row6 col4\" >11</td>\n",
       "      <td id=\"T_98779_row6_col5\" class=\"data row6 col5\" >11</td>\n",
       "      <td id=\"T_98779_row6_col6\" class=\"data row6 col6\" >12</td>\n",
       "      <td id=\"T_98779_row6_col7\" class=\"data row6 col7\" >4</td>\n",
       "      <td id=\"T_98779_row6_col8\" class=\"data row6 col8\" >4</td>\n",
       "      <td id=\"T_98779_row6_col9\" class=\"data row6 col9\" >5</td>\n",
       "    </tr>\n",
       "    <tr>\n",
       "      <th id=\"T_98779_level0_row7\" class=\"row_heading level0 row7\" >7</th>\n",
       "      <td id=\"T_98779_row7_col0\" class=\"data row7 col0\" >8</td>\n",
       "      <td id=\"T_98779_row7_col1\" class=\"data row7 col1\" >George Russell</td>\n",
       "      <td id=\"T_98779_row7_col2\" class=\"data row7 col2\" >Mercedes</td>\n",
       "      <td id=\"T_98779_row7_col3\" class=\"data row7 col3\" >7</td>\n",
       "      <td id=\"T_98779_row7_col4\" class=\"data row7 col4\" >6</td>\n",
       "      <td id=\"T_98779_row7_col5\" class=\"data row7 col5\" >5</td>\n",
       "      <td id=\"T_98779_row7_col6\" class=\"data row7 col6\" >6</td>\n",
       "      <td id=\"T_98779_row7_col7\" class=\"data row7 col7\" >2</td>\n",
       "      <td id=\"T_98779_row7_col8\" class=\"data row7 col8\" >3</td>\n",
       "      <td id=\"T_98779_row7_col9\" class=\"data row7 col9\" >2</td>\n",
       "    </tr>\n",
       "    <tr>\n",
       "      <th id=\"T_98779_level0_row8\" class=\"row_heading level0 row8\" >8</th>\n",
       "      <td id=\"T_98779_row8_col0\" class=\"data row8 col0\" >9</td>\n",
       "      <td id=\"T_98779_row8_col1\" class=\"data row8 col1\" >Fernando Alonso</td>\n",
       "      <td id=\"T_98779_row8_col2\" class=\"data row8 col2\" >Aston Martin</td>\n",
       "      <td id=\"T_98779_row8_col3\" class=\"data row8 col3\" >15</td>\n",
       "      <td id=\"T_98779_row8_col4\" class=\"data row8 col4\" >10</td>\n",
       "      <td id=\"T_98779_row8_col5\" class=\"data row8 col5\" >8</td>\n",
       "      <td id=\"T_98779_row8_col6\" class=\"data row8 col6\" >8</td>\n",
       "      <td id=\"T_98779_row8_col7\" class=\"data row8 col7\" >1</td>\n",
       "      <td id=\"T_98779_row8_col8\" class=\"data row8 col8\" >1</td>\n",
       "      <td id=\"T_98779_row8_col9\" class=\"data row8 col9\" >1</td>\n",
       "    </tr>\n",
       "    <tr>\n",
       "      <th id=\"T_98779_level0_row9\" class=\"row_heading level0 row9\" >9</th>\n",
       "      <td id=\"T_98779_row9_col0\" class=\"data row9 col0\" >10</td>\n",
       "      <td id=\"T_98779_row9_col1\" class=\"data row9 col1\" >Esteban Ocon</td>\n",
       "      <td id=\"T_98779_row9_col2\" class=\"data row9 col2\" >Alpine</td>\n",
       "      <td id=\"T_98779_row9_col3\" class=\"data row9 col3\" >13</td>\n",
       "      <td id=\"T_98779_row9_col4\" class=\"data row9 col4\" >10</td>\n",
       "      <td id=\"T_98779_row9_col5\" class=\"data row9 col5\" >9</td>\n",
       "      <td id=\"T_98779_row9_col6\" class=\"data row9 col6\" >9</td>\n",
       "      <td id=\"T_98779_row9_col7\" class=\"data row9 col7\" >0</td>\n",
       "      <td id=\"T_98779_row9_col8\" class=\"data row9 col8\" >1</td>\n",
       "      <td id=\"T_98779_row9_col9\" class=\"data row9 col9\" >1</td>\n",
       "    </tr>\n",
       "    <tr>\n",
       "      <th id=\"T_98779_level0_row10\" class=\"row_heading level0 row10\" >10</th>\n",
       "      <td id=\"T_98779_row10_col0\" class=\"data row10 col0\" >11</td>\n",
       "      <td id=\"T_98779_row10_col1\" class=\"data row10 col1\" >Nico Hulkenberg</td>\n",
       "      <td id=\"T_98779_row10_col2\" class=\"data row10 col2\" >Haas</td>\n",
       "      <td id=\"T_98779_row10_col3\" class=\"data row10 col3\" >9</td>\n",
       "      <td id=\"T_98779_row10_col4\" class=\"data row10 col4\" >13</td>\n",
       "      <td id=\"T_98779_row10_col5\" class=\"data row10 col5\" >15</td>\n",
       "      <td id=\"T_98779_row10_col6\" class=\"data row10 col6\" >15</td>\n",
       "      <td id=\"T_98779_row10_col7\" class=\"data row10 col7\" >2</td>\n",
       "      <td id=\"T_98779_row10_col8\" class=\"data row10 col8\" >4</td>\n",
       "      <td id=\"T_98779_row10_col9\" class=\"data row10 col9\" >4</td>\n",
       "    </tr>\n",
       "    <tr>\n",
       "      <th id=\"T_98779_level0_row11\" class=\"row_heading level0 row11\" >11</th>\n",
       "      <td id=\"T_98779_row11_col0\" class=\"data row11 col0\" >12</td>\n",
       "      <td id=\"T_98779_row11_col1\" class=\"data row11 col1\" >Pierre Gasly</td>\n",
       "      <td id=\"T_98779_row11_col2\" class=\"data row11 col2\" >Alpine</td>\n",
       "      <td id=\"T_98779_row11_col3\" class=\"data row11 col3\" >12</td>\n",
       "      <td id=\"T_98779_row11_col4\" class=\"data row11 col4\" >12</td>\n",
       "      <td id=\"T_98779_row11_col5\" class=\"data row11 col5\" >13</td>\n",
       "      <td id=\"T_98779_row11_col6\" class=\"data row11 col6\" >15</td>\n",
       "      <td id=\"T_98779_row11_col7\" class=\"data row11 col7\" >0</td>\n",
       "      <td id=\"T_98779_row11_col8\" class=\"data row11 col8\" >1</td>\n",
       "      <td id=\"T_98779_row11_col9\" class=\"data row11 col9\" >3</td>\n",
       "    </tr>\n",
       "    <tr>\n",
       "      <th id=\"T_98779_level0_row12\" class=\"row_heading level0 row12\" >12</th>\n",
       "      <td id=\"T_98779_row12_col0\" class=\"data row12 col0\" >13</td>\n",
       "      <td id=\"T_98779_row12_col1\" class=\"data row12 col1\" >Oscar Piastri</td>\n",
       "      <td id=\"T_98779_row12_col2\" class=\"data row12 col2\" >McLaren</td>\n",
       "      <td id=\"T_98779_row12_col3\" class=\"data row12 col3\" >6</td>\n",
       "      <td id=\"T_98779_row12_col4\" class=\"data row12 col4\" >14</td>\n",
       "      <td id=\"T_98779_row12_col5\" class=\"data row12 col5\" >18</td>\n",
       "      <td id=\"T_98779_row12_col6\" class=\"data row12 col6\" >18</td>\n",
       "      <td id=\"T_98779_row12_col7\" class=\"data row12 col7\" >1</td>\n",
       "      <td id=\"T_98779_row12_col8\" class=\"data row12 col8\" >5</td>\n",
       "      <td id=\"T_98779_row12_col9\" class=\"data row12 col9\" >5</td>\n",
       "    </tr>\n",
       "    <tr>\n",
       "      <th id=\"T_98779_level0_row13\" class=\"row_heading level0 row13\" >13</th>\n",
       "      <td id=\"T_98779_row13_col0\" class=\"data row13 col0\" >14</td>\n",
       "      <td id=\"T_98779_row13_col1\" class=\"data row13 col1\" >Guanyu Zhou</td>\n",
       "      <td id=\"T_98779_row13_col2\" class=\"data row13 col2\" >Sauber</td>\n",
       "      <td id=\"T_98779_row13_col3\" class=\"data row13 col3\" >19</td>\n",
       "      <td id=\"T_98779_row13_col4\" class=\"data row13 col4\" >18</td>\n",
       "      <td id=\"T_98779_row13_col5\" class=\"data row13 col5\" >19</td>\n",
       "      <td id=\"T_98779_row13_col6\" class=\"data row13 col6\" >19</td>\n",
       "      <td id=\"T_98779_row13_col7\" class=\"data row13 col7\" >4</td>\n",
       "      <td id=\"T_98779_row13_col8\" class=\"data row13 col8\" >5</td>\n",
       "      <td id=\"T_98779_row13_col9\" class=\"data row13 col9\" >5</td>\n",
       "    </tr>\n",
       "    <tr>\n",
       "      <th id=\"T_98779_level0_row14\" class=\"row_heading level0 row14\" >14</th>\n",
       "      <td id=\"T_98779_row14_col0\" class=\"data row14 col0\" >15</td>\n",
       "      <td id=\"T_98779_row14_col1\" class=\"data row14 col1\" >Daniel Ricciardo</td>\n",
       "      <td id=\"T_98779_row14_col2\" class=\"data row14 col2\" >RB</td>\n",
       "      <td id=\"T_98779_row14_col3\" class=\"data row14 col3\" >20</td>\n",
       "      <td id=\"T_98779_row14_col4\" class=\"data row14 col4\" >15</td>\n",
       "      <td id=\"T_98779_row14_col5\" class=\"data row14 col5\" >14</td>\n",
       "      <td id=\"T_98779_row14_col6\" class=\"data row14 col6\" >14</td>\n",
       "      <td id=\"T_98779_row14_col7\" class=\"data row14 col7\" >0</td>\n",
       "      <td id=\"T_98779_row14_col8\" class=\"data row14 col8\" >1</td>\n",
       "      <td id=\"T_98779_row14_col9\" class=\"data row14 col9\" >1</td>\n",
       "    </tr>\n",
       "    <tr>\n",
       "      <th id=\"T_98779_level0_row15\" class=\"row_heading level0 row15\" >15</th>\n",
       "      <td id=\"T_98779_row15_col0\" class=\"data row15 col0\" >16</td>\n",
       "      <td id=\"T_98779_row15_col1\" class=\"data row15 col1\" >Valtteri Bottas</td>\n",
       "      <td id=\"T_98779_row15_col2\" class=\"data row15 col2\" >Sauber</td>\n",
       "      <td id=\"T_98779_row15_col3\" class=\"data row15 col3\" >16</td>\n",
       "      <td id=\"T_98779_row15_col4\" class=\"data row15 col4\" >12</td>\n",
       "      <td id=\"T_98779_row15_col5\" class=\"data row15 col5\" >11</td>\n",
       "      <td id=\"T_98779_row15_col6\" class=\"data row15 col6\" >10</td>\n",
       "      <td id=\"T_98779_row15_col7\" class=\"data row15 col7\" >4</td>\n",
       "      <td id=\"T_98779_row15_col8\" class=\"data row15 col8\" >5</td>\n",
       "      <td id=\"T_98779_row15_col9\" class=\"data row15 col9\" >6</td>\n",
       "    </tr>\n",
       "    <tr>\n",
       "      <th id=\"T_98779_level0_row16\" class=\"row_heading level0 row16\" >16</th>\n",
       "      <td id=\"T_98779_row16_col0\" class=\"data row16 col0\" >17</td>\n",
       "      <td id=\"T_98779_row16_col1\" class=\"data row16 col1\" >Lance Stroll</td>\n",
       "      <td id=\"T_98779_row16_col2\" class=\"data row16 col2\" >Aston Martin</td>\n",
       "      <td id=\"T_98779_row16_col3\" class=\"data row16 col3\" >11</td>\n",
       "      <td id=\"T_98779_row16_col4\" class=\"data row16 col4\" >11</td>\n",
       "      <td id=\"T_98779_row16_col5\" class=\"data row16 col5\" >11</td>\n",
       "      <td id=\"T_98779_row16_col6\" class=\"data row16 col6\" >13</td>\n",
       "      <td id=\"T_98779_row16_col7\" class=\"data row16 col7\" >6</td>\n",
       "      <td id=\"T_98779_row16_col8\" class=\"data row16 col8\" >6</td>\n",
       "      <td id=\"T_98779_row16_col9\" class=\"data row16 col9\" >4</td>\n",
       "    </tr>\n",
       "    <tr>\n",
       "      <th id=\"T_98779_level0_row17\" class=\"row_heading level0 row17\" >17</th>\n",
       "      <td id=\"T_98779_row17_col0\" class=\"data row17 col0\" >18</td>\n",
       "      <td id=\"T_98779_row17_col1\" class=\"data row17 col1\" >Alexander Albon</td>\n",
       "      <td id=\"T_98779_row17_col2\" class=\"data row17 col2\" >Williams</td>\n",
       "      <td id=\"T_98779_row17_col3\" class=\"data row17 col3\" >14</td>\n",
       "      <td id=\"T_98779_row17_col4\" class=\"data row17 col4\" >12</td>\n",
       "      <td id=\"T_98779_row17_col5\" class=\"data row17 col5\" >12</td>\n",
       "      <td id=\"T_98779_row17_col6\" class=\"data row17 col6\" >12</td>\n",
       "      <td id=\"T_98779_row17_col7\" class=\"data row17 col7\" >6</td>\n",
       "      <td id=\"T_98779_row17_col8\" class=\"data row17 col8\" >6</td>\n",
       "      <td id=\"T_98779_row17_col9\" class=\"data row17 col9\" >6</td>\n",
       "    </tr>\n",
       "    <tr>\n",
       "      <th id=\"T_98779_level0_row18\" class=\"row_heading level0 row18\" >18</th>\n",
       "      <td id=\"T_98779_row18_col0\" class=\"data row18 col0\" >19</td>\n",
       "      <td id=\"T_98779_row18_col1\" class=\"data row18 col1\" >Kevin Magnussen</td>\n",
       "      <td id=\"T_98779_row18_col2\" class=\"data row18 col2\" >Haas</td>\n",
       "      <td id=\"T_98779_row18_col3\" class=\"data row18 col3\" >18</td>\n",
       "      <td id=\"T_98779_row18_col4\" class=\"data row18 col4\" >14</td>\n",
       "      <td id=\"T_98779_row18_col5\" class=\"data row18 col5\" >14</td>\n",
       "      <td id=\"T_98779_row18_col6\" class=\"data row18 col6\" >15</td>\n",
       "      <td id=\"T_98779_row18_col7\" class=\"data row18 col7\" >5</td>\n",
       "      <td id=\"T_98779_row18_col8\" class=\"data row18 col8\" >5</td>\n",
       "      <td id=\"T_98779_row18_col9\" class=\"data row18 col9\" >4</td>\n",
       "    </tr>\n",
       "    <tr>\n",
       "      <th id=\"T_98779_level0_row19\" class=\"row_heading level0 row19\" >19</th>\n",
       "      <td id=\"T_98779_row19_col0\" class=\"data row19 col0\" >20</td>\n",
       "      <td id=\"T_98779_row19_col1\" class=\"data row19 col1\" >Logan Sargeant</td>\n",
       "      <td id=\"T_98779_row19_col2\" class=\"data row19 col2\" >Williams</td>\n",
       "      <td id=\"T_98779_row19_col3\" class=\"data row19 col3\" >17</td>\n",
       "      <td id=\"T_98779_row19_col4\" class=\"data row19 col4\" >18</td>\n",
       "      <td id=\"T_98779_row19_col5\" class=\"data row19 col5\" >20</td>\n",
       "      <td id=\"T_98779_row19_col6\" class=\"data row19 col6\" >19</td>\n",
       "      <td id=\"T_98779_row19_col7\" class=\"data row19 col7\" >2</td>\n",
       "      <td id=\"T_98779_row19_col8\" class=\"data row19 col8\" >0</td>\n",
       "      <td id=\"T_98779_row19_col9\" class=\"data row19 col9\" >1</td>\n",
       "    </tr>\n",
       "  </tbody>\n",
       "</table>\n"
      ],
      "text/plain": [
       "<pandas.io.formats.style.Styler at 0x11f418430>"
      ]
     },
     "execution_count": 6,
     "metadata": {},
     "output_type": "execute_result"
    }
   ],
   "source": [
    "# Create an interactive results table\n",
    "results_table = predictions.copy()\n",
    "results_table['WA_Error'] = abs(results_table['actual_position'] - predictions['pred_weighted_avg'].round())\n",
    "results_table['LR_Error'] = abs(results_table['actual_position'] - predictions['pred_linear_reg'].round())\n",
    "results_table['RF_Error'] = abs(results_table['actual_position'] - predictions['pred_random_forest'].round())\n",
    "\n",
    "# Convert columns to integers for cleaner display\n",
    "results_table['actual_position'] = results_table['actual_position'].astype(int)\n",
    "results_table['grid_position'] = results_table['grid_position'].fillna(0).astype(int)\n",
    "results_table['WA_Error'] = results_table['WA_Error'].astype(int)\n",
    "results_table['LR_Error'] = results_table['LR_Error'].astype(int)\n",
    "results_table['RF_Error'] = results_table['RF_Error'].astype(int)\n",
    "\n",
    "# Sort by actual position\n",
    "results_table = results_table.sort_values('actual_position')\n",
    "\n",
    "# Create the table\n",
    "prediction_cols = ['pred_weighted_avg', 'pred_linear_reg', 'pred_random_forest']\n",
    "results_display = create_display_friendly_dataframe(results_table, prediction_cols)\n",
    "display_columns = [\n",
    "    'actual_position', 'driver_name', 'team', 'grid_position',\n",
    "    'pred_weighted_avg_display', 'pred_linear_reg_display', 'pred_random_forest_display',\n",
    "    'WA_Error', 'LR_Error', 'RF_Error'\n",
    "]\n",
    "\n",
    "results_display = results_display[display_columns]\n",
    "results_display.columns = [\n",
    "    'Pos', 'Driver', 'Team', 'Grid', \n",
    "    'WA Pred', 'LR Pred', 'RF Pred',\n",
    "    'WA Error', 'LR Error', 'RF Error'\n",
    "]\n",
    "\n",
    "# Style the dataframe\n",
    "def highlight_podium(row):\n",
    "    if row['Pos'] <= 3:\n",
    "        return ['background-color: #FFD700'] * len(row)  # Gold for podium\n",
    "    elif row['Pos'] <= 10:\n",
    "        return ['background-color: #E6F3FF'] * len(row)  # Light blue for points\n",
    "    else:\n",
    "        return ['background-color: white'] * len(row)\n",
    "\n",
    "styled_results = results_display.style.apply(highlight_podium, axis=1)\n",
    "print(\"🏁 2024 Miami Grand Prix - Complete Results & Predictions\")\n",
    "print(\"🥇 Gold: Podium (P1-3) | 🔵 Blue: Points (P4-10) | ⚪ White: No Points\")\n",
    "styled_results"
   ]
  },
  {
   "cell_type": "markdown",
   "metadata": {},
   "source": [
    "## 📊 Error Analysis Dashboard"
   ]
  },
  {
   "cell_type": "code",
   "execution_count": 7,
   "metadata": {},
   "outputs": [
    {
     "data": {
      "application/vnd.plotly.v1+json": {
       "config": {
        "plotlyServerURL": "https://plot.ly"
       },
       "data": [
        {
         "marker": {
          "color": "#4ECDC4"
         },
         "name": "Weighted Avg",
         "opacity": 0.7,
         "type": "histogram",
         "x": {
          "bdata": "AAAAAAAAKMAAAAAAAAAAAAAAAAAAAPC/AAAAAAAAAAAAAAAAAADwPwAAAAAAAPC/AAAAAAAAEMAAAAAAAAAAQAAAAAAAAPC/AAAAAAAAAAAAAAAAAAAAwAAAAAAAAAAAAAAAAAAA8L8AAAAAAAAQwAAAAAAAAAAAAAAAAAAAEEAAAAAAAAAYQAAAAAAAABhAAAAAAAAAFEAAAAAAAAAAQA==",
          "dtype": "f8"
         },
         "xaxis": "x",
         "yaxis": "y"
        },
        {
         "marker": {
          "color": "#FF6B6B"
         },
         "name": "Linear Reg",
         "opacity": 0.7,
         "type": "histogram",
         "x": {
          "bdata": "AAAAAAAAMMAAAAAAAADwPwAAAAAAAPC/AAAAAAAA8D8AAAAAAADwPwAAAAAAAAAAAAAAAAAAEMAAAAAAAAAIQAAAAAAAAPA/AAAAAAAA8D8AAAAAAAAQwAAAAAAAAPC/AAAAAAAAFMAAAAAAAAAUwAAAAAAAAPA/AAAAAAAAFEAAAAAAAAAYQAAAAAAAABhAAAAAAAAAFEAAAAAAAAAAAA==",
          "dtype": "f8"
         },
         "xaxis": "x",
         "yaxis": "y"
        },
        {
         "marker": {
          "color": "#45B7D1"
         },
         "name": "Random Forest",
         "opacity": 0.7,
         "type": "histogram",
         "x": {
          "bdata": "AAAAAAAAMMAAAAAAAADwPwAAAAAAAAAAAAAAAAAAAAAAAAAAAADwPwAAAAAAAPC/AAAAAAAAFMAAAAAAAAAAQAAAAAAAAPA/AAAAAAAA8D8AAAAAAAAQwAAAAAAAAAjAAAAAAAAAFMAAAAAAAAAUwAAAAAAAAPA/AAAAAAAAGEAAAAAAAAAQQAAAAAAAABhAAAAAAAAAEEAAAAAAAADwPw==",
          "dtype": "f8"
         },
         "xaxis": "x",
         "yaxis": "y"
        },
        {
         "marker": {
          "color": "#4ECDC4",
          "size": 10
         },
         "mode": "markers",
         "name": "WA Errors",
         "text": [
          "Lando Norris",
          "Max Verstappen",
          "Charles Leclerc",
          "Sergio Perez",
          "Carlos Sainz",
          "Lewis Hamilton",
          "Yuki Tsunoda",
          "George Russell",
          "Fernando Alonso",
          "Esteban Ocon",
          "Nico Hulkenberg",
          "Pierre Gasly",
          "Oscar Piastri",
          "Guanyu Zhou",
          "Daniel Ricciardo",
          "Valtteri Bottas",
          "Lance Stroll",
          "Alexander Albon",
          "Kevin Magnussen",
          "Logan Sargeant"
         ],
         "type": "scatter",
         "x": {
          "bdata": "AAAAAAAA8D8AAAAAAAAAQAAAAAAAAAhAAAAAAAAAEEAAAAAAAAAUQAAAAAAAABhAAAAAAAAAHEAAAAAAAAAgQAAAAAAAACJAAAAAAAAAJEAAAAAAAAAmQAAAAAAAAChAAAAAAAAAKkAAAAAAAAAsQAAAAAAAAC5AAAAAAAAAMEAAAAAAAAAxQAAAAAAAADJAAAAAAAAAM0AAAAAAAAA0QA==",
          "dtype": "f8"
         },
         "xaxis": "x2",
         "y": {
          "bdata": "AAAAAAAAKEAAAAAAAAAAAAAAAAAAAPA/AAAAAAAAAAAAAAAAAADwPwAAAAAAAPA/AAAAAAAAEEAAAAAAAAAAQAAAAAAAAPA/AAAAAAAAAAAAAAAAAAAAQAAAAAAAAAAAAAAAAAAA8D8AAAAAAAAQQAAAAAAAAAAAAAAAAAAAEEAAAAAAAAAYQAAAAAAAABhAAAAAAAAAFEAAAAAAAAAAQA==",
          "dtype": "f8"
         },
         "yaxis": "y2"
        },
        {
         "marker": {
          "color": "#FF6B6B"
         },
         "name": "Biggest Errors",
         "text": {
          "bdata": "AAAAAAAAKEAAAAAAAAAYQAAAAAAAABhAAAAAAAAAFEAAAAAAAAAQQA==",
          "dtype": "f8"
         },
         "textposition": "outside",
         "type": "bar",
         "x": [
          "Lando Norris",
          "Lance Stroll",
          "Alexander Albon",
          "Kevin Magnussen",
          "Yuki Tsunoda"
         ],
         "xaxis": "x3",
         "y": {
          "bdata": "AAAAAAAAKEAAAAAAAAAYQAAAAAAAABhAAAAAAAAAFEAAAAAAAAAQQA==",
          "dtype": "f8"
         },
         "yaxis": "y3"
        },
        {
         "marker": {
          "color": "#4ECDC4"
         },
         "name": "Best Predictions",
         "text": {
          "bdata": "AAAAAAAAAAAAAAAAAADwPwAAAAAAAAAAAAAAAAAA8D8AAAAAAADwPwAAAAAAAPA/AAAAAAAAAAAAAAAAAAAAAAAAAAAAAPA/AAAAAAAAAAA=",
          "dtype": "f8"
         },
         "textposition": "outside",
         "type": "bar",
         "x": [
          "Max Verstappen",
          "Charles Leclerc",
          "Sergio Perez",
          "Carlos Sainz",
          "Lewis Hamilton",
          "Fernando Alonso",
          "Esteban Ocon",
          "Pierre Gasly",
          "Oscar Piastri",
          "Daniel Ricciardo"
         ],
         "xaxis": "x4",
         "y": {
          "bdata": "AAAAAAAAAAAAAAAAAADwPwAAAAAAAAAAAAAAAAAA8D8AAAAAAADwPwAAAAAAAPA/AAAAAAAAAAAAAAAAAAAAAAAAAAAAAPA/AAAAAAAAAAA=",
          "dtype": "f8"
         },
         "yaxis": "y4"
        }
       ],
       "layout": {
        "annotations": [
         {
          "font": {
           "size": 16
          },
          "showarrow": false,
          "text": "Error Distribution by Model",
          "x": 0.225,
          "xanchor": "center",
          "xref": "paper",
          "y": 1,
          "yanchor": "bottom",
          "yref": "paper"
         },
         {
          "font": {
           "size": 16
          },
          "showarrow": false,
          "text": "Error vs Actual Position",
          "x": 0.775,
          "xanchor": "center",
          "xref": "paper",
          "y": 1,
          "yanchor": "bottom",
          "yref": "paper"
         },
         {
          "font": {
           "size": 16
          },
          "showarrow": false,
          "text": "Top 5 Biggest Errors (WA Model)",
          "x": 0.225,
          "xanchor": "center",
          "xref": "paper",
          "y": 0.375,
          "yanchor": "bottom",
          "yref": "paper"
         },
         {
          "font": {
           "size": 16
          },
          "showarrow": false,
          "text": "Perfect Predictions (WA Model)",
          "x": 0.775,
          "xanchor": "center",
          "xref": "paper",
          "y": 0.375,
          "yanchor": "bottom",
          "yref": "paper"
         }
        ],
        "height": 700,
        "showlegend": true,
        "template": {
         "data": {
          "bar": [
           {
            "error_x": {
             "color": "#2a3f5f"
            },
            "error_y": {
             "color": "#2a3f5f"
            },
            "marker": {
             "line": {
              "color": "#E5ECF6",
              "width": 0.5
             },
             "pattern": {
              "fillmode": "overlay",
              "size": 10,
              "solidity": 0.2
             }
            },
            "type": "bar"
           }
          ],
          "barpolar": [
           {
            "marker": {
             "line": {
              "color": "#E5ECF6",
              "width": 0.5
             },
             "pattern": {
              "fillmode": "overlay",
              "size": 10,
              "solidity": 0.2
             }
            },
            "type": "barpolar"
           }
          ],
          "carpet": [
           {
            "aaxis": {
             "endlinecolor": "#2a3f5f",
             "gridcolor": "white",
             "linecolor": "white",
             "minorgridcolor": "white",
             "startlinecolor": "#2a3f5f"
            },
            "baxis": {
             "endlinecolor": "#2a3f5f",
             "gridcolor": "white",
             "linecolor": "white",
             "minorgridcolor": "white",
             "startlinecolor": "#2a3f5f"
            },
            "type": "carpet"
           }
          ],
          "choropleth": [
           {
            "colorbar": {
             "outlinewidth": 0,
             "ticks": ""
            },
            "type": "choropleth"
           }
          ],
          "contour": [
           {
            "colorbar": {
             "outlinewidth": 0,
             "ticks": ""
            },
            "colorscale": [
             [
              0,
              "#0d0887"
             ],
             [
              0.1111111111111111,
              "#46039f"
             ],
             [
              0.2222222222222222,
              "#7201a8"
             ],
             [
              0.3333333333333333,
              "#9c179e"
             ],
             [
              0.4444444444444444,
              "#bd3786"
             ],
             [
              0.5555555555555556,
              "#d8576b"
             ],
             [
              0.6666666666666666,
              "#ed7953"
             ],
             [
              0.7777777777777778,
              "#fb9f3a"
             ],
             [
              0.8888888888888888,
              "#fdca26"
             ],
             [
              1,
              "#f0f921"
             ]
            ],
            "type": "contour"
           }
          ],
          "contourcarpet": [
           {
            "colorbar": {
             "outlinewidth": 0,
             "ticks": ""
            },
            "type": "contourcarpet"
           }
          ],
          "heatmap": [
           {
            "colorbar": {
             "outlinewidth": 0,
             "ticks": ""
            },
            "colorscale": [
             [
              0,
              "#0d0887"
             ],
             [
              0.1111111111111111,
              "#46039f"
             ],
             [
              0.2222222222222222,
              "#7201a8"
             ],
             [
              0.3333333333333333,
              "#9c179e"
             ],
             [
              0.4444444444444444,
              "#bd3786"
             ],
             [
              0.5555555555555556,
              "#d8576b"
             ],
             [
              0.6666666666666666,
              "#ed7953"
             ],
             [
              0.7777777777777778,
              "#fb9f3a"
             ],
             [
              0.8888888888888888,
              "#fdca26"
             ],
             [
              1,
              "#f0f921"
             ]
            ],
            "type": "heatmap"
           }
          ],
          "histogram": [
           {
            "marker": {
             "pattern": {
              "fillmode": "overlay",
              "size": 10,
              "solidity": 0.2
             }
            },
            "type": "histogram"
           }
          ],
          "histogram2d": [
           {
            "colorbar": {
             "outlinewidth": 0,
             "ticks": ""
            },
            "colorscale": [
             [
              0,
              "#0d0887"
             ],
             [
              0.1111111111111111,
              "#46039f"
             ],
             [
              0.2222222222222222,
              "#7201a8"
             ],
             [
              0.3333333333333333,
              "#9c179e"
             ],
             [
              0.4444444444444444,
              "#bd3786"
             ],
             [
              0.5555555555555556,
              "#d8576b"
             ],
             [
              0.6666666666666666,
              "#ed7953"
             ],
             [
              0.7777777777777778,
              "#fb9f3a"
             ],
             [
              0.8888888888888888,
              "#fdca26"
             ],
             [
              1,
              "#f0f921"
             ]
            ],
            "type": "histogram2d"
           }
          ],
          "histogram2dcontour": [
           {
            "colorbar": {
             "outlinewidth": 0,
             "ticks": ""
            },
            "colorscale": [
             [
              0,
              "#0d0887"
             ],
             [
              0.1111111111111111,
              "#46039f"
             ],
             [
              0.2222222222222222,
              "#7201a8"
             ],
             [
              0.3333333333333333,
              "#9c179e"
             ],
             [
              0.4444444444444444,
              "#bd3786"
             ],
             [
              0.5555555555555556,
              "#d8576b"
             ],
             [
              0.6666666666666666,
              "#ed7953"
             ],
             [
              0.7777777777777778,
              "#fb9f3a"
             ],
             [
              0.8888888888888888,
              "#fdca26"
             ],
             [
              1,
              "#f0f921"
             ]
            ],
            "type": "histogram2dcontour"
           }
          ],
          "mesh3d": [
           {
            "colorbar": {
             "outlinewidth": 0,
             "ticks": ""
            },
            "type": "mesh3d"
           }
          ],
          "parcoords": [
           {
            "line": {
             "colorbar": {
              "outlinewidth": 0,
              "ticks": ""
             }
            },
            "type": "parcoords"
           }
          ],
          "pie": [
           {
            "automargin": true,
            "type": "pie"
           }
          ],
          "scatter": [
           {
            "fillpattern": {
             "fillmode": "overlay",
             "size": 10,
             "solidity": 0.2
            },
            "type": "scatter"
           }
          ],
          "scatter3d": [
           {
            "line": {
             "colorbar": {
              "outlinewidth": 0,
              "ticks": ""
             }
            },
            "marker": {
             "colorbar": {
              "outlinewidth": 0,
              "ticks": ""
             }
            },
            "type": "scatter3d"
           }
          ],
          "scattercarpet": [
           {
            "marker": {
             "colorbar": {
              "outlinewidth": 0,
              "ticks": ""
             }
            },
            "type": "scattercarpet"
           }
          ],
          "scattergeo": [
           {
            "marker": {
             "colorbar": {
              "outlinewidth": 0,
              "ticks": ""
             }
            },
            "type": "scattergeo"
           }
          ],
          "scattergl": [
           {
            "marker": {
             "colorbar": {
              "outlinewidth": 0,
              "ticks": ""
             }
            },
            "type": "scattergl"
           }
          ],
          "scattermap": [
           {
            "marker": {
             "colorbar": {
              "outlinewidth": 0,
              "ticks": ""
             }
            },
            "type": "scattermap"
           }
          ],
          "scattermapbox": [
           {
            "marker": {
             "colorbar": {
              "outlinewidth": 0,
              "ticks": ""
             }
            },
            "type": "scattermapbox"
           }
          ],
          "scatterpolar": [
           {
            "marker": {
             "colorbar": {
              "outlinewidth": 0,
              "ticks": ""
             }
            },
            "type": "scatterpolar"
           }
          ],
          "scatterpolargl": [
           {
            "marker": {
             "colorbar": {
              "outlinewidth": 0,
              "ticks": ""
             }
            },
            "type": "scatterpolargl"
           }
          ],
          "scatterternary": [
           {
            "marker": {
             "colorbar": {
              "outlinewidth": 0,
              "ticks": ""
             }
            },
            "type": "scatterternary"
           }
          ],
          "surface": [
           {
            "colorbar": {
             "outlinewidth": 0,
             "ticks": ""
            },
            "colorscale": [
             [
              0,
              "#0d0887"
             ],
             [
              0.1111111111111111,
              "#46039f"
             ],
             [
              0.2222222222222222,
              "#7201a8"
             ],
             [
              0.3333333333333333,
              "#9c179e"
             ],
             [
              0.4444444444444444,
              "#bd3786"
             ],
             [
              0.5555555555555556,
              "#d8576b"
             ],
             [
              0.6666666666666666,
              "#ed7953"
             ],
             [
              0.7777777777777778,
              "#fb9f3a"
             ],
             [
              0.8888888888888888,
              "#fdca26"
             ],
             [
              1,
              "#f0f921"
             ]
            ],
            "type": "surface"
           }
          ],
          "table": [
           {
            "cells": {
             "fill": {
              "color": "#EBF0F8"
             },
             "line": {
              "color": "white"
             }
            },
            "header": {
             "fill": {
              "color": "#C8D4E3"
             },
             "line": {
              "color": "white"
             }
            },
            "type": "table"
           }
          ]
         },
         "layout": {
          "annotationdefaults": {
           "arrowcolor": "#2a3f5f",
           "arrowhead": 0,
           "arrowwidth": 1
          },
          "autotypenumbers": "strict",
          "coloraxis": {
           "colorbar": {
            "outlinewidth": 0,
            "ticks": ""
           }
          },
          "colorscale": {
           "diverging": [
            [
             0,
             "#8e0152"
            ],
            [
             0.1,
             "#c51b7d"
            ],
            [
             0.2,
             "#de77ae"
            ],
            [
             0.3,
             "#f1b6da"
            ],
            [
             0.4,
             "#fde0ef"
            ],
            [
             0.5,
             "#f7f7f7"
            ],
            [
             0.6,
             "#e6f5d0"
            ],
            [
             0.7,
             "#b8e186"
            ],
            [
             0.8,
             "#7fbc41"
            ],
            [
             0.9,
             "#4d9221"
            ],
            [
             1,
             "#276419"
            ]
           ],
           "sequential": [
            [
             0,
             "#0d0887"
            ],
            [
             0.1111111111111111,
             "#46039f"
            ],
            [
             0.2222222222222222,
             "#7201a8"
            ],
            [
             0.3333333333333333,
             "#9c179e"
            ],
            [
             0.4444444444444444,
             "#bd3786"
            ],
            [
             0.5555555555555556,
             "#d8576b"
            ],
            [
             0.6666666666666666,
             "#ed7953"
            ],
            [
             0.7777777777777778,
             "#fb9f3a"
            ],
            [
             0.8888888888888888,
             "#fdca26"
            ],
            [
             1,
             "#f0f921"
            ]
           ],
           "sequentialminus": [
            [
             0,
             "#0d0887"
            ],
            [
             0.1111111111111111,
             "#46039f"
            ],
            [
             0.2222222222222222,
             "#7201a8"
            ],
            [
             0.3333333333333333,
             "#9c179e"
            ],
            [
             0.4444444444444444,
             "#bd3786"
            ],
            [
             0.5555555555555556,
             "#d8576b"
            ],
            [
             0.6666666666666666,
             "#ed7953"
            ],
            [
             0.7777777777777778,
             "#fb9f3a"
            ],
            [
             0.8888888888888888,
             "#fdca26"
            ],
            [
             1,
             "#f0f921"
            ]
           ]
          },
          "colorway": [
           "#636efa",
           "#EF553B",
           "#00cc96",
           "#ab63fa",
           "#FFA15A",
           "#19d3f3",
           "#FF6692",
           "#B6E880",
           "#FF97FF",
           "#FECB52"
          ],
          "font": {
           "color": "#2a3f5f"
          },
          "geo": {
           "bgcolor": "white",
           "lakecolor": "white",
           "landcolor": "#E5ECF6",
           "showlakes": true,
           "showland": true,
           "subunitcolor": "white"
          },
          "hoverlabel": {
           "align": "left"
          },
          "hovermode": "closest",
          "mapbox": {
           "style": "light"
          },
          "paper_bgcolor": "white",
          "plot_bgcolor": "#E5ECF6",
          "polar": {
           "angularaxis": {
            "gridcolor": "white",
            "linecolor": "white",
            "ticks": ""
           },
           "bgcolor": "#E5ECF6",
           "radialaxis": {
            "gridcolor": "white",
            "linecolor": "white",
            "ticks": ""
           }
          },
          "scene": {
           "xaxis": {
            "backgroundcolor": "#E5ECF6",
            "gridcolor": "white",
            "gridwidth": 2,
            "linecolor": "white",
            "showbackground": true,
            "ticks": "",
            "zerolinecolor": "white"
           },
           "yaxis": {
            "backgroundcolor": "#E5ECF6",
            "gridcolor": "white",
            "gridwidth": 2,
            "linecolor": "white",
            "showbackground": true,
            "ticks": "",
            "zerolinecolor": "white"
           },
           "zaxis": {
            "backgroundcolor": "#E5ECF6",
            "gridcolor": "white",
            "gridwidth": 2,
            "linecolor": "white",
            "showbackground": true,
            "ticks": "",
            "zerolinecolor": "white"
           }
          },
          "shapedefaults": {
           "line": {
            "color": "#2a3f5f"
           }
          },
          "ternary": {
           "aaxis": {
            "gridcolor": "white",
            "linecolor": "white",
            "ticks": ""
           },
           "baxis": {
            "gridcolor": "white",
            "linecolor": "white",
            "ticks": ""
           },
           "bgcolor": "#E5ECF6",
           "caxis": {
            "gridcolor": "white",
            "linecolor": "white",
            "ticks": ""
           }
          },
          "title": {
           "x": 0.05
          },
          "xaxis": {
           "automargin": true,
           "gridcolor": "white",
           "linecolor": "white",
           "ticks": "",
           "title": {
            "standoff": 15
           },
           "zerolinecolor": "white",
           "zerolinewidth": 2
          },
          "yaxis": {
           "automargin": true,
           "gridcolor": "white",
           "linecolor": "white",
           "ticks": "",
           "title": {
            "standoff": 15
           },
           "zerolinecolor": "white",
           "zerolinewidth": 2
          }
         }
        },
        "title": {
         "text": "📊 Prediction Error Analysis Dashboard",
         "x": 0.5
        },
        "xaxis": {
         "anchor": "y",
         "domain": [
          0,
          0.45
         ]
        },
        "xaxis2": {
         "anchor": "y2",
         "domain": [
          0.55,
          1
         ]
        },
        "xaxis3": {
         "anchor": "y3",
         "domain": [
          0,
          0.45
         ]
        },
        "xaxis4": {
         "anchor": "y4",
         "domain": [
          0.55,
          1
         ]
        },
        "yaxis": {
         "anchor": "x",
         "domain": [
          0.625,
          1
         ]
        },
        "yaxis2": {
         "anchor": "x2",
         "domain": [
          0.625,
          1
         ]
        },
        "yaxis3": {
         "anchor": "x3",
         "domain": [
          0,
          0.375
         ]
        },
        "yaxis4": {
         "anchor": "x4",
         "domain": [
          0,
          0.375
         ]
        }
       }
      },
      "image/png": "[encoded data removed]"
     },
     "metadata": {},
     "output_type": "display_data"
    }
   ],
   "source": [
    "# Error analysis\n",
    "def create_error_analysis():\n",
    "    fig = make_subplots(\n",
    "        rows=2, cols=2,\n",
    "        subplot_titles=(\n",
    "            'Error Distribution by Model',\n",
    "            'Error vs Actual Position', \n",
    "            'Top 5 Biggest Errors (WA Model)',\n",
    "            'Perfect Predictions (WA Model)'\n",
    "        )\n",
    "    )\n",
    "    \n",
    "    # Error distribution\n",
    "    models = ['pred_weighted_avg', 'pred_linear_reg', 'pred_random_forest']\n",
    "    model_names = ['Weighted Avg', 'Linear Reg', 'Random Forest']\n",
    "    colors = ['#4ECDC4', '#FF6B6B', '#45B7D1']\n",
    "    \n",
    "    for i, (model, name, color) in enumerate(zip(models, model_names, colors)):\n",
    "        errors = predictions['actual_position'] - predictions[model]\n",
    "        fig.add_trace(\n",
    "            go.Histogram(x=errors, name=name, opacity=0.7, marker_color=color),\n",
    "            row=1, col=1\n",
    "        )\n",
    "    \n",
    "    # Error vs position (Weighted Average)\n",
    "    wa_errors = abs(predictions['actual_position'] - predictions['pred_weighted_avg'])\n",
    "    fig.add_trace(\n",
    "        go.Scatter(\n",
    "            x=predictions['actual_position'],\n",
    "            y=wa_errors,\n",
    "            mode='markers',\n",
    "            marker=dict(size=10, color='#4ECDC4'),\n",
    "            text=predictions['driver_name'],\n",
    "            name='WA Errors'\n",
    "        ),\n",
    "        row=1, col=2\n",
    "    )\n",
    "    \n",
    "    # Top 5 biggest errors\n",
    "    biggest_errors = predictions.nlargest(5, 'WA_Error')\n",
    "    fig.add_trace(\n",
    "        go.Bar(\n",
    "            x=biggest_errors['driver_name'],\n",
    "            y=biggest_errors['WA_Error'],\n",
    "            marker_color='#FF6B6B',\n",
    "            text=biggest_errors['WA_Error'].round(1),\n",
    "            textposition='outside',\n",
    "            name='Biggest Errors'\n",
    "        ),\n",
    "        row=2, col=1\n",
    "    )\n",
    "    \n",
    "    # Perfect/near-perfect predictions\n",
    "    good_predictions = predictions[predictions['WA_Error'] <= 1]\n",
    "    fig.add_trace(\n",
    "        go.Bar(\n",
    "            x=good_predictions['driver_name'],\n",
    "            y=good_predictions['WA_Error'],\n",
    "            marker_color='#4ECDC4',\n",
    "            text=good_predictions['WA_Error'].round(1),\n",
    "            textposition='outside',\n",
    "            name='Best Predictions'\n",
    "        ),\n",
    "        row=2, col=2\n",
    "    )\n",
    "    \n",
    "    fig.update_layout(\n",
    "        height=700,\n",
    "        title_text=\"📊 Prediction Error Analysis Dashboard\",\n",
    "        title_x=0.5,\n",
    "        showlegend=True\n",
    "    )\n",
    "    \n",
    "    return fig\n",
    "\n",
    "# Add error columns\n",
    "predictions['WA_Error'] = abs(predictions['actual_position'] - predictions['pred_weighted_avg'])\n",
    "predictions['LR_Error'] = abs(predictions['actual_position'] - predictions['pred_linear_reg'])\n",
    "predictions['RF_Error'] = abs(predictions['actual_position'] - predictions['pred_random_forest'])\n",
    "\n",
    "error_fig = create_error_analysis()\n",
    "error_fig.show()"
   ]
  },
  {
   "cell_type": "markdown",
   "metadata": {},
   "source": [
    "## 🎖️ Key Insights Summary"
   ]
  },
  {
   "cell_type": "code",
   "execution_count": 8,
   "metadata": {},
   "outputs": [
    {
     "name": "stdout",
     "output_type": "stream",
     "text": [
      "🏆 KEY INSIGHTS SUMMARY\n",
      "==================================================\n",
      "🥇 Best Model: Weighted Average\n",
      "📊 Best RMSE: 3.929 positions\n",
      "🎯 Accuracy (±2 pos): 60.0%\n",
      "\n",
      "🏁 Actual Race Winner: Lando Norris\n",
      "🔮 Predicted Winners:\n",
      "   Weighted Average: Max Verstappen ❌\n",
      "   Linear Regression: Max Verstappen ❌\n",
      "   Random Forest: Max Verstappen ❌\n",
      "\n",
      "🎯 Perfect Predictions (Weighted Average):\n",
      "   Max Verstappen: P2\n",
      "   Sergio Perez: P4\n",
      "   Esteban Ocon: P10\n",
      "   Pierre Gasly: P12\n",
      "   Daniel Ricciardo: P15\n",
      "\n",
      "📈 Average Prediction Error: 2.6 positions\n",
      "📊 Podium Accuracy: 66.7%\n"
     ]
    }
   ],
   "source": [
    "# Generate key insights\n",
    "best_model = eval_metrics.loc[eval_metrics['rmse'].idxmin(), 'model']\n",
    "best_rmse = eval_metrics['rmse'].min()\n",
    "best_accuracy = eval_metrics.loc[eval_metrics['rmse'].idxmin(), 'within_2_accuracy']\n",
    "\n",
    "# Winner analysis\n",
    "actual_winner = predictions[predictions['actual_position'] == 1]['driver_name'].iloc[0]\n",
    "predicted_winners = {\n",
    "    'Weighted Average': predictions.loc[predictions['pred_weighted_avg'].idxmin(), 'driver_name'],\n",
    "    'Linear Regression': predictions.loc[predictions['pred_linear_reg'].idxmin(), 'driver_name'],\n",
    "    'Random Forest': predictions.loc[predictions['pred_random_forest'].idxmin(), 'driver_name']\n",
    "}\n",
    "\n",
    "# Perfect predictions\n",
    "perfect_predictions = predictions[predictions['WA_Error'] == 0]\n",
    "\n",
    "print(\"🏆 KEY INSIGHTS SUMMARY\")\n",
    "print(\"=\"*50)\n",
    "print(f\"🥇 Best Model: {best_model}\")\n",
    "print(f\"📊 Best RMSE: {best_rmse:.3f} positions\")\n",
    "print(f\"🎯 Accuracy (±2 pos): {best_accuracy:.1f}%\")\n",
    "print()\n",
    "print(f\"🏁 Actual Race Winner: {actual_winner}\")\n",
    "print(\"🔮 Predicted Winners:\")\n",
    "for model, winner in predicted_winners.items():\n",
    "    correct = \"✅\" if winner == actual_winner else \"❌\"\n",
    "    print(f\"   {model}: {winner} {correct}\")\n",
    "print()\n",
    "print(f\"🎯 Perfect Predictions ({best_model}):\")\n",
    "if len(perfect_predictions) > 0:\n",
    "    for _, row in perfect_predictions.iterrows():\n",
    "        print(f\"   {row['driver_name']}: P{int(row['actual_position'])}\")\n",
    "else:\n",
    "    print(\"   No perfect predictions\")\n",
    "print()\n",
    "print(\"📈 Average Prediction Error: {:.1f} positions\".format(predictions['WA_Error'].mean()))\n",
    "print(\"📊 Podium Accuracy: {:.1f}%\".format(\n",
    "    len(set(predictions[predictions['actual_position'] <= 3]['driver_name']) & \n",
    "        set(predictions.nsmallest(3, 'pred_weighted_avg')['driver_name'])) / 3 * 100\n",
    "))"
   ]
  },
  {
   "cell_type": "markdown",
   "metadata": {},
   "source": [
    "## 🔍 Custom Analysis Functions"
   ]
  },
  {
   "cell_type": "code",
   "execution_count": 9,
   "metadata": {},
   "outputs": [
    {
     "name": "stdout",
     "output_type": "stream",
     "text": [
      "🔍 DRIVER ANALYSIS EXAMPLES\n",
      "\n",
      "🏎️ DRIVER ANALYSIS: Lando Norris\n",
      "========================================\n",
      "Team: McLaren\n",
      "Grid Position: P5\n",
      "Actual Finish: P1\n",
      "\n",
      "🔮 Model Predictions:\n",
      "   Weighted Average: P13 (Error: 12)\n",
      "   Linear Regression: P17 (Error: 16)\n",
      "   Random Forest: P17 (Error: 16)\n",
      "📊 Position Change: 4 positions\n",
      "\n",
      "--------------------------------------------------\n",
      "\n",
      "🏎️ DRIVER ANALYSIS: Max Verstappen\n",
      "========================================\n",
      "Team: Red Bull\n",
      "Grid Position: P1\n",
      "Actual Finish: P2\n",
      "\n",
      "🔮 Model Predictions:\n",
      "   Weighted Average: P2 (Error: 0)\n",
      "   Linear Regression: P1 (Error: 1)\n",
      "   Random Forest: P1 (Error: 1)\n",
      "📊 Position Change: -1 positions\n"
     ]
    }
   ],
   "source": [
    "# Interactive function to analyze specific drivers\n",
    "def analyze_driver(driver_name):\n",
    "    driver_data = predictions[predictions['driver_name'] == driver_name]\n",
    "    if len(driver_data) == 0:\n",
    "        print(f\"❌ Driver '{driver_name}' not found\")\n",
    "        return\n",
    "    \n",
    "    row = driver_data.iloc[0]\n",
    "    print(f\"🏎️ DRIVER ANALYSIS: {driver_name}\")\n",
    "    print(\"=\"*40)\n",
    "    print(f\"Team: {row['team']}\")\n",
    "    print(f\"Grid Position: P{int(row['grid_position'])}\")\n",
    "    print(f\"Actual Finish: P{int(row['actual_position'])}\")\n",
    "    print()\n",
    "    print(\"🔮 Model Predictions:\")\n",
    "    print(f\"   Weighted Average: P{int(row['pred_weighted_avg'])} (Error: {int(row['WA_Error'])})\")\n",
    "    print(f\"   Linear Regression: P{int(row['pred_linear_reg'])} (Error: {int(row['LR_Error'])})\")\n",
    "    print(f\"   Random Forest: P{int(row['pred_random_forest'])} (Error: {int(row['RF_Error'])})\")\n",
    "    print(f\"📊 Position Change: {int(row['grid_position']) - int(row['actual_position'])} positions\")\n",
    "\n",
    "# Example usage - analyze specific drivers\n",
    "print(\"🔍 DRIVER ANALYSIS EXAMPLES\\n\")\n",
    "analyze_driver(\"Lando Norris\")  # Race winner\n",
    "print(\"\\n\" + \"-\"*50 + \"\\n\")\n",
    "analyze_driver(\"Max Verstappen\")  # Championship leader"
   ]
  },
  {
   "cell_type": "markdown",
   "metadata": {},
   "source": [
    "## 📋 Available Drivers for Analysis\n",
    "\n",
    "Use the `analyze_driver()` function above with any of these driver names:"
   ]
  },
  {
   "cell_type": "code",
   "execution_count": 10,
   "metadata": {},
   "outputs": [
    {
     "name": "stdout",
     "output_type": "stream",
     "text": [
      "🏎️ 2024 MIAMI GP DRIVERS:\n",
      "========================================\n",
      "P 1 - Lando Norris (McLaren)\n",
      "P 2 - Max Verstappen (Red Bull)\n",
      "P 3 - Charles Leclerc (Ferrari)\n",
      "P 4 - Sergio Perez (Red Bull)\n",
      "P 5 - Carlos Sainz (Ferrari)\n",
      "P 6 - Lewis Hamilton (Mercedes)\n",
      "P 7 - Yuki Tsunoda (RB)\n",
      "P 8 - George Russell (Mercedes)\n",
      "P 9 - Fernando Alonso (Aston Martin)\n",
      "P10 - Esteban Ocon (Alpine)\n",
      "P11 - Nico Hulkenberg (Haas)\n",
      "P12 - Pierre Gasly (Alpine)\n",
      "P13 - Oscar Piastri (McLaren)\n",
      "P14 - Guanyu Zhou (Sauber)\n",
      "P15 - Daniel Ricciardo (RB)\n",
      "P16 - Valtteri Bottas (Sauber)\n",
      "P17 - Lance Stroll (Aston Martin)\n",
      "P18 - Alexander Albon (Williams)\n",
      "P19 - Kevin Magnussen (Haas)\n",
      "P20 - Logan Sargeant (Williams)\n",
      "\n",
      "💡 Usage: analyze_driver('Driver Name')\n",
      "Example: analyze_driver('Charles Leclerc')\n"
     ]
    }
   ],
   "source": [
    "# List all available drivers\n",
    "drivers_list = predictions[['driver_name', 'team', 'actual_position']].sort_values('actual_position')\n",
    "print(\"🏎️ 2024 MIAMI GP DRIVERS:\")\n",
    "print(\"=\"*40)\n",
    "for _, row in drivers_list.iterrows():\n",
    "    print(f\"P{int(row['actual_position']):2d} - {row['driver_name']} ({row['team']})\")\n",
    "\n",
    "print(\"\\n💡 Usage: analyze_driver('Driver Name')\")\n",
    "print(\"Example: analyze_driver('Charles Leclerc')\")"
   ]
  },
  {
   "cell_type": "code",
   "execution_count": null,
   "metadata": {},
   "outputs": [],
   "source": []
  }
 ],
 "metadata": {
  "kernelspec": {
   "display_name": "Python 3 (ipykernel)",
   "language": "python",
   "name": "python3"
  },
  "language_info": {
   "codemirror_mode": {
    "name": "ipython",
    "version": 3
   },
   "file_extension": ".py",
   "mimetype": "text/x-python",
   "name": "python",
   "nbconvert_exporter": "python",
   "pygments_lexer": "ipython3",
   "version": "3.9.6"
  }
 },
 "nbformat": 4,
 "nbformat_minor": 4
}
